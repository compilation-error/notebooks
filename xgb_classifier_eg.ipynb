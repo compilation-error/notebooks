{
 "cells": [
  {
   "cell_type": "markdown",
   "id": "29d946a2-8848-4f6d-b72a-ff2af213f258",
   "metadata": {},
   "source": [
    "# XGBoost manual scoring example"
   ]
  },
  {
   "cell_type": "markdown",
   "id": "6f4bec19-17be-4c51-990e-a12e1f2de7db",
   "metadata": {},
   "source": [
    "## Imports and setup"
   ]
  },
  {
   "cell_type": "code",
   "execution_count": 1,
   "id": "c07c708e-9357-4ef0-aae5-6781474e856a",
   "metadata": {
    "tags": []
   },
   "outputs": [],
   "source": [
    "import xgboost as xgb\n",
    "import numpy as np\n",
    "\n",
    "from sklearn.datasets import load_breast_cancer\n",
    "from sklearn.model_selection import train_test_split"
   ]
  },
  {
   "cell_type": "code",
   "execution_count": 2,
   "id": "aaac21da-b628-49a1-a5d0-2179c38818e6",
   "metadata": {
    "tags": []
   },
   "outputs": [
    {
     "name": "stdout",
     "output_type": "stream",
     "text": [
      "1.7.4\n"
     ]
    }
   ],
   "source": [
    "print(xgb.__version__)"
   ]
  },
  {
   "cell_type": "code",
   "execution_count": 3,
   "id": "f48561c3-578b-42fe-9c6e-26d1f6b46699",
   "metadata": {
    "tags": []
   },
   "outputs": [],
   "source": [
    "def sigmoid(x):\n",
    "    return 1 / (1 + np.exp(-x))"
   ]
  },
  {
   "cell_type": "code",
   "execution_count": 4,
   "id": "19d41b07-3016-4e72-a4ba-012debf9e9a1",
   "metadata": {
    "tags": []
   },
   "outputs": [],
   "source": [
    "seed = 42\n",
    "test_size = 0.2"
   ]
  },
  {
   "cell_type": "markdown",
   "id": "92c3c00e-750a-462f-a297-c3cb7363e016",
   "metadata": {},
   "source": [
    "## Load and Split dataset"
   ]
  },
  {
   "cell_type": "code",
   "execution_count": 5,
   "id": "8e15732f-9cf1-4976-8c66-cbdccea99cca",
   "metadata": {
    "tags": []
   },
   "outputs": [],
   "source": [
    "data = load_breast_cancer(as_frame=True)"
   ]
  },
  {
   "cell_type": "code",
   "execution_count": 6,
   "id": "65f1ad16-8191-48e0-8eee-dacdf0177d6b",
   "metadata": {
    "tags": []
   },
   "outputs": [],
   "source": [
    "X, y, feature_names = data.data, data.target, data.feature_names"
   ]
  },
  {
   "cell_type": "code",
   "execution_count": 7,
   "id": "af9dfb4e-1c87-493d-b363-2e6c745e79cf",
   "metadata": {},
   "outputs": [],
   "source": [
    "X_trian, X_test, y_train, y_test = train_test_split(X, y, test_size=test_size, random_state=seed)"
   ]
  },
  {
   "cell_type": "markdown",
   "id": "7c2e8bc3-ace2-4ea4-86be-35b5b70169d3",
   "metadata": {},
   "source": [
    "## Setup and train model"
   ]
  },
  {
   "cell_type": "code",
   "execution_count": 8,
   "id": "3377a9c1-b9d0-4336-a61f-b1b5a3dba544",
   "metadata": {
    "tags": []
   },
   "outputs": [
    {
     "data": {
      "text/html": [
       "<style>#sk-container-id-1 {color: black;background-color: white;}#sk-container-id-1 pre{padding: 0;}#sk-container-id-1 div.sk-toggleable {background-color: white;}#sk-container-id-1 label.sk-toggleable__label {cursor: pointer;display: block;width: 100%;margin-bottom: 0;padding: 0.3em;box-sizing: border-box;text-align: center;}#sk-container-id-1 label.sk-toggleable__label-arrow:before {content: \"▸\";float: left;margin-right: 0.25em;color: #696969;}#sk-container-id-1 label.sk-toggleable__label-arrow:hover:before {color: black;}#sk-container-id-1 div.sk-estimator:hover label.sk-toggleable__label-arrow:before {color: black;}#sk-container-id-1 div.sk-toggleable__content {max-height: 0;max-width: 0;overflow: hidden;text-align: left;background-color: #f0f8ff;}#sk-container-id-1 div.sk-toggleable__content pre {margin: 0.2em;color: black;border-radius: 0.25em;background-color: #f0f8ff;}#sk-container-id-1 input.sk-toggleable__control:checked~div.sk-toggleable__content {max-height: 200px;max-width: 100%;overflow: auto;}#sk-container-id-1 input.sk-toggleable__control:checked~label.sk-toggleable__label-arrow:before {content: \"▾\";}#sk-container-id-1 div.sk-estimator input.sk-toggleable__control:checked~label.sk-toggleable__label {background-color: #d4ebff;}#sk-container-id-1 div.sk-label input.sk-toggleable__control:checked~label.sk-toggleable__label {background-color: #d4ebff;}#sk-container-id-1 input.sk-hidden--visually {border: 0;clip: rect(1px 1px 1px 1px);clip: rect(1px, 1px, 1px, 1px);height: 1px;margin: -1px;overflow: hidden;padding: 0;position: absolute;width: 1px;}#sk-container-id-1 div.sk-estimator {font-family: monospace;background-color: #f0f8ff;border: 1px dotted black;border-radius: 0.25em;box-sizing: border-box;margin-bottom: 0.5em;}#sk-container-id-1 div.sk-estimator:hover {background-color: #d4ebff;}#sk-container-id-1 div.sk-parallel-item::after {content: \"\";width: 100%;border-bottom: 1px solid gray;flex-grow: 1;}#sk-container-id-1 div.sk-label:hover label.sk-toggleable__label {background-color: #d4ebff;}#sk-container-id-1 div.sk-serial::before {content: \"\";position: absolute;border-left: 1px solid gray;box-sizing: border-box;top: 0;bottom: 0;left: 50%;z-index: 0;}#sk-container-id-1 div.sk-serial {display: flex;flex-direction: column;align-items: center;background-color: white;padding-right: 0.2em;padding-left: 0.2em;position: relative;}#sk-container-id-1 div.sk-item {position: relative;z-index: 1;}#sk-container-id-1 div.sk-parallel {display: flex;align-items: stretch;justify-content: center;background-color: white;position: relative;}#sk-container-id-1 div.sk-item::before, #sk-container-id-1 div.sk-parallel-item::before {content: \"\";position: absolute;border-left: 1px solid gray;box-sizing: border-box;top: 0;bottom: 0;left: 50%;z-index: -1;}#sk-container-id-1 div.sk-parallel-item {display: flex;flex-direction: column;z-index: 1;position: relative;background-color: white;}#sk-container-id-1 div.sk-parallel-item:first-child::after {align-self: flex-end;width: 50%;}#sk-container-id-1 div.sk-parallel-item:last-child::after {align-self: flex-start;width: 50%;}#sk-container-id-1 div.sk-parallel-item:only-child::after {width: 0;}#sk-container-id-1 div.sk-dashed-wrapped {border: 1px dashed gray;margin: 0 0.4em 0.5em 0.4em;box-sizing: border-box;padding-bottom: 0.4em;background-color: white;}#sk-container-id-1 div.sk-label label {font-family: monospace;font-weight: bold;display: inline-block;line-height: 1.2em;}#sk-container-id-1 div.sk-label-container {text-align: center;}#sk-container-id-1 div.sk-container {/* jupyter's `normalize.less` sets `[hidden] { display: none; }` but bootstrap.min.css set `[hidden] { display: none !important; }` so we also need the `!important` here to be able to override the default hidden behavior on the sphinx rendered scikit-learn.org. See: https://github.com/scikit-learn/scikit-learn/issues/21755 */display: inline-block !important;position: relative;}#sk-container-id-1 div.sk-text-repr-fallback {display: none;}</style><div id=\"sk-container-id-1\" class=\"sk-top-container\"><div class=\"sk-text-repr-fallback\"><pre>XGBClassifier(base_score=None, booster=None, callbacks=None,\n",
       "              colsample_bylevel=None, colsample_bynode=None,\n",
       "              colsample_bytree=None, early_stopping_rounds=None,\n",
       "              enable_categorical=False, eval_metric=None, feature_types=None,\n",
       "              gamma=None, gpu_id=None, grow_policy=None, importance_type=None,\n",
       "              interaction_constraints=None, learning_rate=None, max_bin=None,\n",
       "              max_cat_threshold=None, max_cat_to_onehot=None,\n",
       "              max_delta_step=None, max_depth=None, max_leaves=None,\n",
       "              min_child_weight=None, missing=nan, monotone_constraints=None,\n",
       "              n_estimators=100, n_jobs=None, num_parallel_tree=None,\n",
       "              predictor=None, random_state=None, ...)</pre><b>In a Jupyter environment, please rerun this cell to show the HTML representation or trust the notebook. <br />On GitHub, the HTML representation is unable to render, please try loading this page with nbviewer.org.</b></div><div class=\"sk-container\" hidden><div class=\"sk-item\"><div class=\"sk-estimator sk-toggleable\"><input class=\"sk-toggleable__control sk-hidden--visually\" id=\"sk-estimator-id-1\" type=\"checkbox\" checked><label for=\"sk-estimator-id-1\" class=\"sk-toggleable__label sk-toggleable__label-arrow\">XGBClassifier</label><div class=\"sk-toggleable__content\"><pre>XGBClassifier(base_score=None, booster=None, callbacks=None,\n",
       "              colsample_bylevel=None, colsample_bynode=None,\n",
       "              colsample_bytree=None, early_stopping_rounds=None,\n",
       "              enable_categorical=False, eval_metric=None, feature_types=None,\n",
       "              gamma=None, gpu_id=None, grow_policy=None, importance_type=None,\n",
       "              interaction_constraints=None, learning_rate=None, max_bin=None,\n",
       "              max_cat_threshold=None, max_cat_to_onehot=None,\n",
       "              max_delta_step=None, max_depth=None, max_leaves=None,\n",
       "              min_child_weight=None, missing=nan, monotone_constraints=None,\n",
       "              n_estimators=100, n_jobs=None, num_parallel_tree=None,\n",
       "              predictor=None, random_state=None, ...)</pre></div></div></div></div></div>"
      ],
      "text/plain": [
       "XGBClassifier(base_score=None, booster=None, callbacks=None,\n",
       "              colsample_bylevel=None, colsample_bynode=None,\n",
       "              colsample_bytree=None, early_stopping_rounds=None,\n",
       "              enable_categorical=False, eval_metric=None, feature_types=None,\n",
       "              gamma=None, gpu_id=None, grow_policy=None, importance_type=None,\n",
       "              interaction_constraints=None, learning_rate=None, max_bin=None,\n",
       "              max_cat_threshold=None, max_cat_to_onehot=None,\n",
       "              max_delta_step=None, max_depth=None, max_leaves=None,\n",
       "              min_child_weight=None, missing=nan, monotone_constraints=None,\n",
       "              n_estimators=100, n_jobs=None, num_parallel_tree=None,\n",
       "              predictor=None, random_state=None, ...)"
      ]
     },
     "execution_count": 8,
     "metadata": {},
     "output_type": "execute_result"
    }
   ],
   "source": [
    "m1 = xgb.XGBClassifier()                                                  # default values from xgboost\n",
    "m1.fit(X_trian, y_train)"
   ]
  },
  {
   "cell_type": "code",
   "execution_count": 9,
   "id": "067665ae-0123-401e-b6d0-81b589c515c9",
   "metadata": {
    "tags": []
   },
   "outputs": [
    {
     "data": {
      "text/html": [
       "<style>#sk-container-id-2 {color: black;background-color: white;}#sk-container-id-2 pre{padding: 0;}#sk-container-id-2 div.sk-toggleable {background-color: white;}#sk-container-id-2 label.sk-toggleable__label {cursor: pointer;display: block;width: 100%;margin-bottom: 0;padding: 0.3em;box-sizing: border-box;text-align: center;}#sk-container-id-2 label.sk-toggleable__label-arrow:before {content: \"▸\";float: left;margin-right: 0.25em;color: #696969;}#sk-container-id-2 label.sk-toggleable__label-arrow:hover:before {color: black;}#sk-container-id-2 div.sk-estimator:hover label.sk-toggleable__label-arrow:before {color: black;}#sk-container-id-2 div.sk-toggleable__content {max-height: 0;max-width: 0;overflow: hidden;text-align: left;background-color: #f0f8ff;}#sk-container-id-2 div.sk-toggleable__content pre {margin: 0.2em;color: black;border-radius: 0.25em;background-color: #f0f8ff;}#sk-container-id-2 input.sk-toggleable__control:checked~div.sk-toggleable__content {max-height: 200px;max-width: 100%;overflow: auto;}#sk-container-id-2 input.sk-toggleable__control:checked~label.sk-toggleable__label-arrow:before {content: \"▾\";}#sk-container-id-2 div.sk-estimator input.sk-toggleable__control:checked~label.sk-toggleable__label {background-color: #d4ebff;}#sk-container-id-2 div.sk-label input.sk-toggleable__control:checked~label.sk-toggleable__label {background-color: #d4ebff;}#sk-container-id-2 input.sk-hidden--visually {border: 0;clip: rect(1px 1px 1px 1px);clip: rect(1px, 1px, 1px, 1px);height: 1px;margin: -1px;overflow: hidden;padding: 0;position: absolute;width: 1px;}#sk-container-id-2 div.sk-estimator {font-family: monospace;background-color: #f0f8ff;border: 1px dotted black;border-radius: 0.25em;box-sizing: border-box;margin-bottom: 0.5em;}#sk-container-id-2 div.sk-estimator:hover {background-color: #d4ebff;}#sk-container-id-2 div.sk-parallel-item::after {content: \"\";width: 100%;border-bottom: 1px solid gray;flex-grow: 1;}#sk-container-id-2 div.sk-label:hover label.sk-toggleable__label {background-color: #d4ebff;}#sk-container-id-2 div.sk-serial::before {content: \"\";position: absolute;border-left: 1px solid gray;box-sizing: border-box;top: 0;bottom: 0;left: 50%;z-index: 0;}#sk-container-id-2 div.sk-serial {display: flex;flex-direction: column;align-items: center;background-color: white;padding-right: 0.2em;padding-left: 0.2em;position: relative;}#sk-container-id-2 div.sk-item {position: relative;z-index: 1;}#sk-container-id-2 div.sk-parallel {display: flex;align-items: stretch;justify-content: center;background-color: white;position: relative;}#sk-container-id-2 div.sk-item::before, #sk-container-id-2 div.sk-parallel-item::before {content: \"\";position: absolute;border-left: 1px solid gray;box-sizing: border-box;top: 0;bottom: 0;left: 50%;z-index: -1;}#sk-container-id-2 div.sk-parallel-item {display: flex;flex-direction: column;z-index: 1;position: relative;background-color: white;}#sk-container-id-2 div.sk-parallel-item:first-child::after {align-self: flex-end;width: 50%;}#sk-container-id-2 div.sk-parallel-item:last-child::after {align-self: flex-start;width: 50%;}#sk-container-id-2 div.sk-parallel-item:only-child::after {width: 0;}#sk-container-id-2 div.sk-dashed-wrapped {border: 1px dashed gray;margin: 0 0.4em 0.5em 0.4em;box-sizing: border-box;padding-bottom: 0.4em;background-color: white;}#sk-container-id-2 div.sk-label label {font-family: monospace;font-weight: bold;display: inline-block;line-height: 1.2em;}#sk-container-id-2 div.sk-label-container {text-align: center;}#sk-container-id-2 div.sk-container {/* jupyter's `normalize.less` sets `[hidden] { display: none; }` but bootstrap.min.css set `[hidden] { display: none !important; }` so we also need the `!important` here to be able to override the default hidden behavior on the sphinx rendered scikit-learn.org. See: https://github.com/scikit-learn/scikit-learn/issues/21755 */display: inline-block !important;position: relative;}#sk-container-id-2 div.sk-text-repr-fallback {display: none;}</style><div id=\"sk-container-id-2\" class=\"sk-top-container\"><div class=\"sk-text-repr-fallback\"><pre>XGBClassifier(base_score=None, booster=None, callbacks=None,\n",
       "              colsample_bylevel=None, colsample_bynode=None,\n",
       "              colsample_bytree=None, early_stopping_rounds=None,\n",
       "              enable_categorical=False, eval_metric=None, feature_types=None,\n",
       "              gamma=None, gpu_id=None, grow_policy=None, importance_type=None,\n",
       "              interaction_constraints=None, learning_rate=0.1, max_bin=None,\n",
       "              max_cat_threshold=None, max_cat_to_onehot=None,\n",
       "              max_delta_step=None, max_depth=2, max_leaves=None,\n",
       "              min_child_weight=None, missing=nan, monotone_constraints=None,\n",
       "              n_estimators=2, n_jobs=None, num_parallel_tree=None,\n",
       "              predictor=None, random_state=None, ...)</pre><b>In a Jupyter environment, please rerun this cell to show the HTML representation or trust the notebook. <br />On GitHub, the HTML representation is unable to render, please try loading this page with nbviewer.org.</b></div><div class=\"sk-container\" hidden><div class=\"sk-item\"><div class=\"sk-estimator sk-toggleable\"><input class=\"sk-toggleable__control sk-hidden--visually\" id=\"sk-estimator-id-2\" type=\"checkbox\" checked><label for=\"sk-estimator-id-2\" class=\"sk-toggleable__label sk-toggleable__label-arrow\">XGBClassifier</label><div class=\"sk-toggleable__content\"><pre>XGBClassifier(base_score=None, booster=None, callbacks=None,\n",
       "              colsample_bylevel=None, colsample_bynode=None,\n",
       "              colsample_bytree=None, early_stopping_rounds=None,\n",
       "              enable_categorical=False, eval_metric=None, feature_types=None,\n",
       "              gamma=None, gpu_id=None, grow_policy=None, importance_type=None,\n",
       "              interaction_constraints=None, learning_rate=0.1, max_bin=None,\n",
       "              max_cat_threshold=None, max_cat_to_onehot=None,\n",
       "              max_delta_step=None, max_depth=2, max_leaves=None,\n",
       "              min_child_weight=None, missing=nan, monotone_constraints=None,\n",
       "              n_estimators=2, n_jobs=None, num_parallel_tree=None,\n",
       "              predictor=None, random_state=None, ...)</pre></div></div></div></div></div>"
      ],
      "text/plain": [
       "XGBClassifier(base_score=None, booster=None, callbacks=None,\n",
       "              colsample_bylevel=None, colsample_bynode=None,\n",
       "              colsample_bytree=None, early_stopping_rounds=None,\n",
       "              enable_categorical=False, eval_metric=None, feature_types=None,\n",
       "              gamma=None, gpu_id=None, grow_policy=None, importance_type=None,\n",
       "              interaction_constraints=None, learning_rate=0.1, max_bin=None,\n",
       "              max_cat_threshold=None, max_cat_to_onehot=None,\n",
       "              max_delta_step=None, max_depth=2, max_leaves=None,\n",
       "              min_child_weight=None, missing=nan, monotone_constraints=None,\n",
       "              n_estimators=2, n_jobs=None, num_parallel_tree=None,\n",
       "              predictor=None, random_state=None, ...)"
      ]
     },
     "execution_count": 9,
     "metadata": {},
     "output_type": "execute_result"
    }
   ],
   "source": [
    "m2 = xgb.XGBClassifier(n_estimators=2, max_depth=2, learning_rate=0.1)    # Smaller model to walkthrough\n",
    "m2.fit(X_trian, y_train)"
   ]
  },
  {
   "cell_type": "markdown",
   "id": "4bbbb168-cfd2-4bd6-a264-02788d2f39a0",
   "metadata": {},
   "source": [
    "## Explore smaller model's trees"
   ]
  },
  {
   "cell_type": "code",
   "execution_count": 10,
   "id": "ad1624ce-508d-4dd8-93e9-af69a980efe7",
   "metadata": {
    "tags": []
   },
   "outputs": [
    {
     "name": "stdout",
     "output_type": "stream",
     "text": [
      "Smaller Model - Tree 0\n"
     ]
    },
    {
     "data": {
      "image/svg+xml": [
       "<?xml version=\"1.0\" encoding=\"UTF-8\" standalone=\"no\"?>\n",
       "<!DOCTYPE svg PUBLIC \"-//W3C//DTD SVG 1.1//EN\"\n",
       " \"http://www.w3.org/Graphics/SVG/1.1/DTD/svg11.dtd\">\n",
       "<!-- Generated by graphviz version 7.1.0 (20230121.1956)\n",
       " -->\n",
       "<!-- Pages: 1 -->\n",
       "<svg width=\"568pt\" height=\"218pt\"\n",
       " viewBox=\"0.00 0.00 567.50 218.00\" xmlns=\"http://www.w3.org/2000/svg\" xmlns:xlink=\"http://www.w3.org/1999/xlink\">\n",
       "<g id=\"graph0\" class=\"graph\" transform=\"scale(1 1) rotate(0) translate(4 214)\">\n",
       "<polygon fill=\"white\" stroke=\"none\" points=\"-4,4 -4,-214 563.5,-214 563.5,4 -4,4\"/>\n",
       "<!-- 0 -->\n",
       "<g id=\"node1\" class=\"node\">\n",
       "<title>0</title>\n",
       "<path fill=\"#78bceb\" stroke=\"black\" d=\"M378,-210C378,-210 184,-210 184,-210 178,-210 172,-204 172,-198 172,-198 172,-186 172,-186 172,-180 178,-174 184,-174 184,-174 378,-174 378,-174 384,-174 390,-180 390,-186 390,-186 390,-198 390,-198 390,-204 384,-210 378,-210\"/>\n",
       "<text text-anchor=\"middle\" x=\"281\" y=\"-188.3\" font-family=\"Times,serif\" font-size=\"14.00\">mean concave points&lt;0.0512799993</text>\n",
       "</g>\n",
       "<!-- 1 -->\n",
       "<g id=\"node2\" class=\"node\">\n",
       "<title>1</title>\n",
       "<path fill=\"#78bceb\" stroke=\"black\" d=\"M253,-123C253,-123 121,-123 121,-123 115,-123 109,-117 109,-111 109,-111 109,-99 109,-99 109,-93 115,-87 121,-87 121,-87 253,-87 253,-87 259,-87 265,-93 265,-99 265,-99 265,-111 265,-111 265,-117 259,-123 253,-123\"/>\n",
       "<text text-anchor=\"middle\" x=\"187\" y=\"-101.3\" font-family=\"Times,serif\" font-size=\"14.00\">worst radius&lt;16.8299999</text>\n",
       "</g>\n",
       "<!-- 0&#45;&gt;1 -->\n",
       "<g id=\"edge1\" class=\"edge\">\n",
       "<title>0&#45;&gt;1</title>\n",
       "<path fill=\"none\" stroke=\"#0000ff\" d=\"M261.98,-173.8C248.43,-161.55 230.02,-144.9 214.83,-131.16\"/>\n",
       "<polygon fill=\"#0000ff\" stroke=\"#0000ff\" points=\"217.2,-128.59 207.44,-124.48 212.51,-133.79 217.2,-128.59\"/>\n",
       "<text text-anchor=\"middle\" x=\"274.5\" y=\"-144.8\" font-family=\"Times,serif\" font-size=\"14.00\">yes, missing</text>\n",
       "</g>\n",
       "<!-- 2 -->\n",
       "<g id=\"node3\" class=\"node\">\n",
       "<title>2</title>\n",
       "<path fill=\"#78bceb\" stroke=\"black\" d=\"M455,-123C455,-123 295,-123 295,-123 289,-123 283,-117 283,-111 283,-111 283,-99 283,-99 283,-93 289,-87 295,-87 295,-87 455,-87 455,-87 461,-87 467,-93 467,-99 467,-99 467,-111 467,-111 467,-117 461,-123 455,-123\"/>\n",
       "<text text-anchor=\"middle\" x=\"375\" y=\"-101.3\" font-family=\"Times,serif\" font-size=\"14.00\">worst concave points&lt;0.14655</text>\n",
       "</g>\n",
       "<!-- 0&#45;&gt;2 -->\n",
       "<g id=\"edge2\" class=\"edge\">\n",
       "<title>0&#45;&gt;2</title>\n",
       "<path fill=\"none\" stroke=\"#ff0000\" d=\"M300.02,-173.8C313.57,-161.55 331.98,-144.9 347.17,-131.16\"/>\n",
       "<polygon fill=\"#ff0000\" stroke=\"#ff0000\" points=\"349.49,-133.79 354.56,-124.48 344.8,-128.59 349.49,-133.79\"/>\n",
       "<text text-anchor=\"middle\" x=\"341\" y=\"-144.8\" font-family=\"Times,serif\" font-size=\"14.00\">no</text>\n",
       "</g>\n",
       "<!-- 3 -->\n",
       "<g id=\"node4\" class=\"node\">\n",
       "<title>3</title>\n",
       "<polygon fill=\"#e48038\" stroke=\"black\" points=\"116,-36 0,-36 0,0 116,0 116,-36\"/>\n",
       "<text text-anchor=\"middle\" x=\"58\" y=\"-14.3\" font-family=\"Times,serif\" font-size=\"14.00\">leaf=0.189513117</text>\n",
       "</g>\n",
       "<!-- 1&#45;&gt;3 -->\n",
       "<g id=\"edge3\" class=\"edge\">\n",
       "<title>1&#45;&gt;3</title>\n",
       "<path fill=\"none\" stroke=\"#0000ff\" d=\"M149.85,-86.67C139.6,-81.41 128.66,-75.34 119,-69 107.49,-61.44 95.61,-52.11 85.43,-43.56\"/>\n",
       "<polygon fill=\"#0000ff\" stroke=\"#0000ff\" points=\"87.99,-41.15 78.12,-37.3 83.44,-46.46 87.99,-41.15\"/>\n",
       "<text text-anchor=\"middle\" x=\"153.5\" y=\"-57.8\" font-family=\"Times,serif\" font-size=\"14.00\">yes, missing</text>\n",
       "</g>\n",
       "<!-- 4 -->\n",
       "<g id=\"node5\" class=\"node\">\n",
       "<title>4</title>\n",
       "<polygon fill=\"#e48038\" stroke=\"black\" points=\"262,-36 134,-36 134,0 262,0 262,-36\"/>\n",
       "<text text-anchor=\"middle\" x=\"198\" y=\"-14.3\" font-family=\"Times,serif\" font-size=\"14.00\">leaf=&#45;0.0260869563</text>\n",
       "</g>\n",
       "<!-- 1&#45;&gt;4 -->\n",
       "<g id=\"edge4\" class=\"edge\">\n",
       "<title>1&#45;&gt;4</title>\n",
       "<path fill=\"none\" stroke=\"#ff0000\" d=\"M189.23,-86.8C190.68,-75.58 192.61,-60.67 194.29,-47.69\"/>\n",
       "<polygon fill=\"#ff0000\" stroke=\"#ff0000\" points=\"197.73,-48.33 195.55,-37.97 190.79,-47.44 197.73,-48.33\"/>\n",
       "<text text-anchor=\"middle\" x=\"201\" y=\"-57.8\" font-family=\"Times,serif\" font-size=\"14.00\">no</text>\n",
       "</g>\n",
       "<!-- 5 -->\n",
       "<g id=\"node6\" class=\"node\">\n",
       "<title>5</title>\n",
       "<polygon fill=\"#e48038\" stroke=\"black\" points=\"420,-36 290,-36 290,0 420,0 420,-36\"/>\n",
       "<text text-anchor=\"middle\" x=\"355\" y=\"-14.3\" font-family=\"Times,serif\" font-size=\"14.00\">leaf=0.00512820529</text>\n",
       "</g>\n",
       "<!-- 2&#45;&gt;5 -->\n",
       "<g id=\"edge5\" class=\"edge\">\n",
       "<title>2&#45;&gt;5</title>\n",
       "<path fill=\"none\" stroke=\"#0000ff\" d=\"M370.95,-86.8C368.29,-75.47 364.73,-60.36 361.66,-47.29\"/>\n",
       "<polygon fill=\"#0000ff\" stroke=\"#0000ff\" points=\"365.15,-46.87 359.46,-37.94 358.34,-48.48 365.15,-46.87\"/>\n",
       "<text text-anchor=\"middle\" x=\"401.5\" y=\"-57.8\" font-family=\"Times,serif\" font-size=\"14.00\">yes, missing</text>\n",
       "</g>\n",
       "<!-- 6 -->\n",
       "<g id=\"node7\" class=\"node\">\n",
       "<title>6</title>\n",
       "<polygon fill=\"#e48038\" stroke=\"black\" points=\"559.5,-36 438.5,-36 438.5,0 559.5,0 559.5,-36\"/>\n",
       "<text text-anchor=\"middle\" x=\"499\" y=\"-14.3\" font-family=\"Times,serif\" font-size=\"14.00\">leaf=&#45;0.188732401</text>\n",
       "</g>\n",
       "<!-- 2&#45;&gt;6 -->\n",
       "<g id=\"edge6\" class=\"edge\">\n",
       "<title>2&#45;&gt;6</title>\n",
       "<path fill=\"none\" stroke=\"#ff0000\" d=\"M410.54,-86.59C420.33,-81.34 430.79,-75.28 440,-69 451.04,-61.47 462.42,-52.24 472.19,-43.77\"/>\n",
       "<polygon fill=\"#ff0000\" stroke=\"#ff0000\" points=\"474.37,-46.52 479.54,-37.27 469.73,-41.27 474.37,-46.52\"/>\n",
       "<text text-anchor=\"middle\" x=\"465\" y=\"-57.8\" font-family=\"Times,serif\" font-size=\"14.00\">no</text>\n",
       "</g>\n",
       "</g>\n",
       "</svg>\n"
      ],
      "text/plain": [
       "<graphviz.sources.Source at 0x167344550>"
      ]
     },
     "execution_count": 10,
     "metadata": {},
     "output_type": "execute_result"
    }
   ],
   "source": [
    "print(\"Smaller Model - Tree 0\")\n",
    "xgb.to_graphviz(m2, \n",
    "                condition_node_params={'shape': 'box', 'style': 'filled,rounded', 'fillcolor': '#78bceb'},\n",
    "                leaf_node_params={'shape': 'box', 'style': 'filled', 'fillcolor': '#e48038'},\n",
    "                yes_color='#0000FF', no_color='#FF0000'\n",
    "               )"
   ]
  },
  {
   "cell_type": "code",
   "execution_count": 11,
   "id": "7e2161e3-08a3-4b53-930c-d6b3aa05ed04",
   "metadata": {
    "tags": []
   },
   "outputs": [
    {
     "name": "stdout",
     "output_type": "stream",
     "text": [
      "Smaller Model - Tree 1\n"
     ]
    },
    {
     "data": {
      "image/svg+xml": [
       "<?xml version=\"1.0\" encoding=\"UTF-8\" standalone=\"no\"?>\n",
       "<!DOCTYPE svg PUBLIC \"-//W3C//DTD SVG 1.1//EN\"\n",
       " \"http://www.w3.org/Graphics/SVG/1.1/DTD/svg11.dtd\">\n",
       "<!-- Generated by graphviz version 7.1.0 (20230121.1956)\n",
       " -->\n",
       "<!-- Pages: 1 -->\n",
       "<svg width=\"551pt\" height=\"218pt\"\n",
       " viewBox=\"0.00 0.00 550.50 218.00\" xmlns=\"http://www.w3.org/2000/svg\" xmlns:xlink=\"http://www.w3.org/1999/xlink\">\n",
       "<g id=\"graph0\" class=\"graph\" transform=\"scale(1 1) rotate(0) translate(4 214)\">\n",
       "<polygon fill=\"white\" stroke=\"none\" points=\"-4,4 -4,-214 546.5,-214 546.5,4 -4,4\"/>\n",
       "<!-- 0 -->\n",
       "<g id=\"node1\" class=\"node\">\n",
       "<title>0</title>\n",
       "<path fill=\"#78bceb\" stroke=\"black\" d=\"M364.5,-210C364.5,-210 177.5,-210 177.5,-210 171.5,-210 165.5,-204 165.5,-198 165.5,-198 165.5,-186 165.5,-186 165.5,-180 171.5,-174 177.5,-174 177.5,-174 364.5,-174 364.5,-174 370.5,-174 376.5,-180 376.5,-186 376.5,-186 376.5,-198 376.5,-198 376.5,-204 370.5,-210 364.5,-210\"/>\n",
       "<text text-anchor=\"middle\" x=\"271\" y=\"-188.3\" font-family=\"Times,serif\" font-size=\"14.00\">worst concave points&lt;0.142349988</text>\n",
       "</g>\n",
       "<!-- 1 -->\n",
       "<g id=\"node2\" class=\"node\">\n",
       "<title>1</title>\n",
       "<path fill=\"#78bceb\" stroke=\"black\" d=\"M248,-123C248,-123 126,-123 126,-123 120,-123 114,-117 114,-111 114,-111 114,-99 114,-99 114,-93 120,-87 126,-87 126,-87 248,-87 248,-87 254,-87 260,-93 260,-99 260,-99 260,-111 260,-111 260,-117 254,-123 248,-123\"/>\n",
       "<text text-anchor=\"middle\" x=\"187\" y=\"-101.3\" font-family=\"Times,serif\" font-size=\"14.00\">worst area&lt;957.450012</text>\n",
       "</g>\n",
       "<!-- 0&#45;&gt;1 -->\n",
       "<g id=\"edge1\" class=\"edge\">\n",
       "<title>0&#45;&gt;1</title>\n",
       "<path fill=\"none\" stroke=\"#0000ff\" d=\"M254,-173.8C242.01,-161.67 225.75,-145.21 212.25,-131.55\"/>\n",
       "<polygon fill=\"#0000ff\" stroke=\"#0000ff\" points=\"214.84,-129.2 205.33,-124.54 209.87,-134.12 214.84,-129.2\"/>\n",
       "<text text-anchor=\"middle\" x=\"269.5\" y=\"-144.8\" font-family=\"Times,serif\" font-size=\"14.00\">yes, missing</text>\n",
       "</g>\n",
       "<!-- 2 -->\n",
       "<g id=\"node3\" class=\"node\">\n",
       "<title>2</title>\n",
       "<path fill=\"#78bceb\" stroke=\"black\" d=\"M422,-123C422,-123 290,-123 290,-123 284,-123 278,-117 278,-111 278,-111 278,-99 278,-99 278,-93 284,-87 290,-87 290,-87 422,-87 422,-87 428,-87 434,-93 434,-99 434,-99 434,-111 434,-111 434,-117 428,-123 422,-123\"/>\n",
       "<text text-anchor=\"middle\" x=\"356\" y=\"-101.3\" font-family=\"Times,serif\" font-size=\"14.00\">worst radius&lt;14.8549995</text>\n",
       "</g>\n",
       "<!-- 0&#45;&gt;2 -->\n",
       "<g id=\"edge2\" class=\"edge\">\n",
       "<title>0&#45;&gt;2</title>\n",
       "<path fill=\"none\" stroke=\"#ff0000\" d=\"M289.61,-173.73C295.55,-168.13 302.1,-161.86 308,-156 315.9,-148.16 324.36,-139.45 331.95,-131.53\"/>\n",
       "<polygon fill=\"#ff0000\" stroke=\"#ff0000\" points=\"334.36,-134.07 338.72,-124.42 329.29,-129.25 334.36,-134.07\"/>\n",
       "<text text-anchor=\"middle\" x=\"330\" y=\"-144.8\" font-family=\"Times,serif\" font-size=\"14.00\">no</text>\n",
       "</g>\n",
       "<!-- 3 -->\n",
       "<g id=\"node4\" class=\"node\">\n",
       "<title>3</title>\n",
       "<polygon fill=\"#e48038\" stroke=\"black\" points=\"116,-36 0,-36 0,0 116,0 116,-36\"/>\n",
       "<text text-anchor=\"middle\" x=\"58\" y=\"-14.3\" font-family=\"Times,serif\" font-size=\"14.00\">leaf=0.167789608</text>\n",
       "</g>\n",
       "<!-- 1&#45;&gt;3 -->\n",
       "<g id=\"edge3\" class=\"edge\">\n",
       "<title>1&#45;&gt;3</title>\n",
       "<path fill=\"none\" stroke=\"#0000ff\" d=\"M148.89,-86.6C138.6,-81.38 127.65,-75.35 118,-69 106.73,-61.58 95.15,-52.37 85.21,-43.89\"/>\n",
       "<polygon fill=\"#0000ff\" stroke=\"#0000ff\" points=\"87.57,-41.3 77.74,-37.37 82.97,-46.58 87.57,-41.3\"/>\n",
       "<text text-anchor=\"middle\" x=\"152.5\" y=\"-57.8\" font-family=\"Times,serif\" font-size=\"14.00\">yes, missing</text>\n",
       "</g>\n",
       "<!-- 4 -->\n",
       "<g id=\"node5\" class=\"node\">\n",
       "<title>4</title>\n",
       "<polygon fill=\"#e48038\" stroke=\"black\" points=\"255.5,-36 134.5,-36 134.5,0 255.5,0 255.5,-36\"/>\n",
       "<text text-anchor=\"middle\" x=\"195\" y=\"-14.3\" font-family=\"Times,serif\" font-size=\"14.00\">leaf=&#45;0.115801983</text>\n",
       "</g>\n",
       "<!-- 1&#45;&gt;4 -->\n",
       "<g id=\"edge4\" class=\"edge\">\n",
       "<title>1&#45;&gt;4</title>\n",
       "<path fill=\"none\" stroke=\"#ff0000\" d=\"M188.62,-86.8C189.67,-75.58 191.08,-60.67 192.3,-47.69\"/>\n",
       "<polygon fill=\"#ff0000\" stroke=\"#ff0000\" points=\"195.76,-48.26 193.21,-37.97 188.79,-47.6 195.76,-48.26\"/>\n",
       "<text text-anchor=\"middle\" x=\"199\" y=\"-57.8\" font-family=\"Times,serif\" font-size=\"14.00\">no</text>\n",
       "</g>\n",
       "<!-- 5 -->\n",
       "<g id=\"node6\" class=\"node\">\n",
       "<title>5</title>\n",
       "<polygon fill=\"#e48038\" stroke=\"black\" points=\"403.5,-36 280.5,-36 280.5,0 403.5,0 403.5,-36\"/>\n",
       "<text text-anchor=\"middle\" x=\"342\" y=\"-14.3\" font-family=\"Times,serif\" font-size=\"14.00\">leaf=0.0462072901</text>\n",
       "</g>\n",
       "<!-- 2&#45;&gt;5 -->\n",
       "<g id=\"edge5\" class=\"edge\">\n",
       "<title>2&#45;&gt;5</title>\n",
       "<path fill=\"none\" stroke=\"#0000ff\" d=\"M353.17,-86.8C351.32,-75.58 348.86,-60.67 346.72,-47.69\"/>\n",
       "<polygon fill=\"#0000ff\" stroke=\"#0000ff\" points=\"350.2,-47.26 345.12,-37.96 343.29,-48.4 350.2,-47.26\"/>\n",
       "<text text-anchor=\"middle\" x=\"384.5\" y=\"-57.8\" font-family=\"Times,serif\" font-size=\"14.00\">yes, missing</text>\n",
       "</g>\n",
       "<!-- 6 -->\n",
       "<g id=\"node7\" class=\"node\">\n",
       "<title>6</title>\n",
       "<polygon fill=\"#e48038\" stroke=\"black\" points=\"542.5,-36 421.5,-36 421.5,0 542.5,0 542.5,-36\"/>\n",
       "<text text-anchor=\"middle\" x=\"482\" y=\"-14.3\" font-family=\"Times,serif\" font-size=\"14.00\">leaf=&#45;0.170574024</text>\n",
       "</g>\n",
       "<!-- 2&#45;&gt;6 -->\n",
       "<g id=\"edge6\" class=\"edge\">\n",
       "<title>2&#45;&gt;6</title>\n",
       "<path fill=\"none\" stroke=\"#ff0000\" d=\"M393.01,-86.53C403,-81.32 413.64,-75.3 423,-69 434.09,-61.54 445.47,-52.32 455.25,-43.84\"/>\n",
       "<polygon fill=\"#ff0000\" stroke=\"#ff0000\" points=\"457.42,-46.59 462.58,-37.34 452.78,-41.35 457.42,-46.59\"/>\n",
       "<text text-anchor=\"middle\" x=\"448\" y=\"-57.8\" font-family=\"Times,serif\" font-size=\"14.00\">no</text>\n",
       "</g>\n",
       "</g>\n",
       "</svg>\n"
      ],
      "text/plain": [
       "<graphviz.sources.Source at 0x16739ae10>"
      ]
     },
     "execution_count": 11,
     "metadata": {},
     "output_type": "execute_result"
    }
   ],
   "source": [
    "print(\"Smaller Model - Tree 1\")\n",
    "xgb.to_graphviz(m2, num_trees=1,\n",
    "                condition_node_params={'shape': 'box', 'style': 'filled,rounded', 'fillcolor': '#78bceb'},\n",
    "                leaf_node_params={'shape': 'box', 'style': 'filled', 'fillcolor': '#e48038'},\n",
    "                yes_color='#0000FF', no_color='#FF0000'\n",
    "               )"
   ]
  },
  {
   "cell_type": "code",
   "execution_count": 12,
   "id": "a2387fdc-2c21-43b0-be1d-550193661b21",
   "metadata": {},
   "outputs": [
    {
     "data": {
      "text/html": [
       "<div>\n",
       "<style scoped>\n",
       "    .dataframe tbody tr th:only-of-type {\n",
       "        vertical-align: middle;\n",
       "    }\n",
       "\n",
       "    .dataframe tbody tr th {\n",
       "        vertical-align: top;\n",
       "    }\n",
       "\n",
       "    .dataframe thead th {\n",
       "        text-align: right;\n",
       "    }\n",
       "</style>\n",
       "<table border=\"1\" class=\"dataframe\">\n",
       "  <thead>\n",
       "    <tr style=\"text-align: right;\">\n",
       "      <th></th>\n",
       "      <th>Tree</th>\n",
       "      <th>Node</th>\n",
       "      <th>ID</th>\n",
       "      <th>Feature</th>\n",
       "      <th>Split</th>\n",
       "      <th>Yes</th>\n",
       "      <th>No</th>\n",
       "      <th>Missing</th>\n",
       "      <th>Gain</th>\n",
       "      <th>Cover</th>\n",
       "      <th>Category</th>\n",
       "    </tr>\n",
       "  </thead>\n",
       "  <tbody>\n",
       "    <tr>\n",
       "      <th>0</th>\n",
       "      <td>0</td>\n",
       "      <td>0</td>\n",
       "      <td>0-0</td>\n",
       "      <td>mean concave points</td>\n",
       "      <td>0.051280</td>\n",
       "      <td>0-1</td>\n",
       "      <td>0-2</td>\n",
       "      <td>0-1</td>\n",
       "      <td>288.645782</td>\n",
       "      <td>113.750000</td>\n",
       "      <td>NaN</td>\n",
       "    </tr>\n",
       "    <tr>\n",
       "      <th>1</th>\n",
       "      <td>0</td>\n",
       "      <td>1</td>\n",
       "      <td>0-1</td>\n",
       "      <td>worst radius</td>\n",
       "      <td>16.830000</td>\n",
       "      <td>0-3</td>\n",
       "      <td>0-4</td>\n",
       "      <td>0-3</td>\n",
       "      <td>21.593933</td>\n",
       "      <td>70.500000</td>\n",
       "      <td>NaN</td>\n",
       "    </tr>\n",
       "    <tr>\n",
       "      <th>2</th>\n",
       "      <td>0</td>\n",
       "      <td>2</td>\n",
       "      <td>0-2</td>\n",
       "      <td>worst concave points</td>\n",
       "      <td>0.146550</td>\n",
       "      <td>0-5</td>\n",
       "      <td>0-6</td>\n",
       "      <td>0-5</td>\n",
       "      <td>26.538498</td>\n",
       "      <td>43.250000</td>\n",
       "      <td>NaN</td>\n",
       "    </tr>\n",
       "    <tr>\n",
       "      <th>3</th>\n",
       "      <td>0</td>\n",
       "      <td>3</td>\n",
       "      <td>0-3</td>\n",
       "      <td>Leaf</td>\n",
       "      <td>NaN</td>\n",
       "      <td>NaN</td>\n",
       "      <td>NaN</td>\n",
       "      <td>NaN</td>\n",
       "      <td>0.189513</td>\n",
       "      <td>65.750000</td>\n",
       "      <td>NaN</td>\n",
       "    </tr>\n",
       "    <tr>\n",
       "      <th>4</th>\n",
       "      <td>0</td>\n",
       "      <td>4</td>\n",
       "      <td>0-4</td>\n",
       "      <td>Leaf</td>\n",
       "      <td>NaN</td>\n",
       "      <td>NaN</td>\n",
       "      <td>NaN</td>\n",
       "      <td>NaN</td>\n",
       "      <td>-0.026087</td>\n",
       "      <td>4.750000</td>\n",
       "      <td>NaN</td>\n",
       "    </tr>\n",
       "    <tr>\n",
       "      <th>5</th>\n",
       "      <td>0</td>\n",
       "      <td>5</td>\n",
       "      <td>0-5</td>\n",
       "      <td>Leaf</td>\n",
       "      <td>NaN</td>\n",
       "      <td>NaN</td>\n",
       "      <td>NaN</td>\n",
       "      <td>NaN</td>\n",
       "      <td>0.005128</td>\n",
       "      <td>8.750000</td>\n",
       "      <td>NaN</td>\n",
       "    </tr>\n",
       "    <tr>\n",
       "      <th>6</th>\n",
       "      <td>0</td>\n",
       "      <td>6</td>\n",
       "      <td>0-6</td>\n",
       "      <td>Leaf</td>\n",
       "      <td>NaN</td>\n",
       "      <td>NaN</td>\n",
       "      <td>NaN</td>\n",
       "      <td>NaN</td>\n",
       "      <td>-0.188732</td>\n",
       "      <td>34.500000</td>\n",
       "      <td>NaN</td>\n",
       "    </tr>\n",
       "    <tr>\n",
       "      <th>7</th>\n",
       "      <td>1</td>\n",
       "      <td>0</td>\n",
       "      <td>1-0</td>\n",
       "      <td>worst concave points</td>\n",
       "      <td>0.142350</td>\n",
       "      <td>1-1</td>\n",
       "      <td>1-2</td>\n",
       "      <td>1-1</td>\n",
       "      <td>236.865540</td>\n",
       "      <td>112.856888</td>\n",
       "      <td>NaN</td>\n",
       "    </tr>\n",
       "    <tr>\n",
       "      <th>8</th>\n",
       "      <td>1</td>\n",
       "      <td>1</td>\n",
       "      <td>1-1</td>\n",
       "      <td>worst area</td>\n",
       "      <td>957.450012</td>\n",
       "      <td>1-3</td>\n",
       "      <td>1-4</td>\n",
       "      <td>1-3</td>\n",
       "      <td>42.357987</td>\n",
       "      <td>75.423508</td>\n",
       "      <td>NaN</td>\n",
       "    </tr>\n",
       "    <tr>\n",
       "      <th>9</th>\n",
       "      <td>1</td>\n",
       "      <td>2</td>\n",
       "      <td>1-2</td>\n",
       "      <td>worst radius</td>\n",
       "      <td>14.854999</td>\n",
       "      <td>1-5</td>\n",
       "      <td>1-6</td>\n",
       "      <td>1-5</td>\n",
       "      <td>11.567032</td>\n",
       "      <td>37.433380</td>\n",
       "      <td>NaN</td>\n",
       "    </tr>\n",
       "    <tr>\n",
       "      <th>10</th>\n",
       "      <td>1</td>\n",
       "      <td>3</td>\n",
       "      <td>1-3</td>\n",
       "      <td>Leaf</td>\n",
       "      <td>NaN</td>\n",
       "      <td>NaN</td>\n",
       "      <td>NaN</td>\n",
       "      <td>NaN</td>\n",
       "      <td>0.167790</td>\n",
       "      <td>70.423950</td>\n",
       "      <td>NaN</td>\n",
       "    </tr>\n",
       "    <tr>\n",
       "      <th>11</th>\n",
       "      <td>1</td>\n",
       "      <td>4</td>\n",
       "      <td>1-4</td>\n",
       "      <td>Leaf</td>\n",
       "      <td>NaN</td>\n",
       "      <td>NaN</td>\n",
       "      <td>NaN</td>\n",
       "      <td>NaN</td>\n",
       "      <td>-0.115802</td>\n",
       "      <td>4.999558</td>\n",
       "      <td>NaN</td>\n",
       "    </tr>\n",
       "    <tr>\n",
       "      <th>12</th>\n",
       "      <td>1</td>\n",
       "      <td>5</td>\n",
       "      <td>1-5</td>\n",
       "      <td>Leaf</td>\n",
       "      <td>NaN</td>\n",
       "      <td>NaN</td>\n",
       "      <td>NaN</td>\n",
       "      <td>NaN</td>\n",
       "      <td>0.046207</td>\n",
       "      <td>2.236662</td>\n",
       "      <td>NaN</td>\n",
       "    </tr>\n",
       "    <tr>\n",
       "      <th>13</th>\n",
       "      <td>1</td>\n",
       "      <td>6</td>\n",
       "      <td>1-6</td>\n",
       "      <td>Leaf</td>\n",
       "      <td>NaN</td>\n",
       "      <td>NaN</td>\n",
       "      <td>NaN</td>\n",
       "      <td>NaN</td>\n",
       "      <td>-0.170574</td>\n",
       "      <td>35.196716</td>\n",
       "      <td>NaN</td>\n",
       "    </tr>\n",
       "  </tbody>\n",
       "</table>\n",
       "</div>"
      ],
      "text/plain": [
       "    Tree  Node   ID               Feature       Split  Yes   No Missing  \\\n",
       "0      0     0  0-0   mean concave points    0.051280  0-1  0-2     0-1   \n",
       "1      0     1  0-1          worst radius   16.830000  0-3  0-4     0-3   \n",
       "2      0     2  0-2  worst concave points    0.146550  0-5  0-6     0-5   \n",
       "3      0     3  0-3                  Leaf         NaN  NaN  NaN     NaN   \n",
       "4      0     4  0-4                  Leaf         NaN  NaN  NaN     NaN   \n",
       "5      0     5  0-5                  Leaf         NaN  NaN  NaN     NaN   \n",
       "6      0     6  0-6                  Leaf         NaN  NaN  NaN     NaN   \n",
       "7      1     0  1-0  worst concave points    0.142350  1-1  1-2     1-1   \n",
       "8      1     1  1-1            worst area  957.450012  1-3  1-4     1-3   \n",
       "9      1     2  1-2          worst radius   14.854999  1-5  1-6     1-5   \n",
       "10     1     3  1-3                  Leaf         NaN  NaN  NaN     NaN   \n",
       "11     1     4  1-4                  Leaf         NaN  NaN  NaN     NaN   \n",
       "12     1     5  1-5                  Leaf         NaN  NaN  NaN     NaN   \n",
       "13     1     6  1-6                  Leaf         NaN  NaN  NaN     NaN   \n",
       "\n",
       "          Gain       Cover  Category  \n",
       "0   288.645782  113.750000       NaN  \n",
       "1    21.593933   70.500000       NaN  \n",
       "2    26.538498   43.250000       NaN  \n",
       "3     0.189513   65.750000       NaN  \n",
       "4    -0.026087    4.750000       NaN  \n",
       "5     0.005128    8.750000       NaN  \n",
       "6    -0.188732   34.500000       NaN  \n",
       "7   236.865540  112.856888       NaN  \n",
       "8    42.357987   75.423508       NaN  \n",
       "9    11.567032   37.433380       NaN  \n",
       "10    0.167790   70.423950       NaN  \n",
       "11   -0.115802    4.999558       NaN  \n",
       "12    0.046207    2.236662       NaN  \n",
       "13   -0.170574   35.196716       NaN  "
      ]
     },
     "execution_count": 12,
     "metadata": {},
     "output_type": "execute_result"
    }
   ],
   "source": [
    "m2_table = m2.get_booster().trees_to_dataframe()\n",
    "m2_table"
   ]
  },
  {
   "cell_type": "code",
   "execution_count": null,
   "id": "603426bd-ac2f-457b-8e85-c11e980a4cf0",
   "metadata": {
    "tags": []
   },
   "outputs": [],
   "source": []
  },
  {
   "cell_type": "code",
   "execution_count": 13,
   "id": "8efae58b-5360-493c-a5f9-9cfc26108540",
   "metadata": {
    "tags": []
   },
   "outputs": [],
   "source": [
    "# Manual Scoring from model as dataframe.\n",
    "# Iterate over all trees starting from root node and add leaf scores\n",
    "\n",
    "def score_manual(model, xtest):\n",
    "    # get the model struct as dataframe\n",
    "    table = model.get_booster().trees_to_dataframe()\n",
    "    \n",
    "    # pick the correct starting score\n",
    "    if model.base_score:\n",
    "        score = model.base_score\n",
    "    else:\n",
    "        score = 0\n",
    "        \n",
    "    # iterate over all trees\n",
    "    for tree in table[\"Tree\"].unique():\n",
    "        string = f\"{tree=} => \"\n",
    "        ID = f\"{tree}-0\"    # ID of root node of each tree is of form <tree_id>-0\n",
    "        feature = \"\"\n",
    "\n",
    "        # traverse tree till at leaf node\n",
    "        while True:\n",
    "            string += f\"{ID} -> \"\n",
    "            row = table[(table[\"ID\"] == ID)]\n",
    "            feature = row[\"Feature\"].values[0]\n",
    "            if feature.startswith(\"Leaf\"):\n",
    "                leaf_value = row[\"Gain\"].values[0]\n",
    "                score += (leaf_value)\n",
    "                print(f\"[{score:.6f}]: {string} {leaf_value}\")\n",
    "                break\n",
    "            else:\n",
    "                tree = row[\"Tree\"].values[0]\n",
    "                threshold = row[\"Split\"].values[0]\n",
    "                ID = row[\"Yes\"] if xtest[feature].iloc[0] < threshold else row[\"No\"]\n",
    "                ID = ID.values[0]\n",
    "                \n",
    "    print(f\"[{score}]\")\n",
    "    return score"
   ]
  },
  {
   "cell_type": "markdown",
   "id": "5c20c75e-f36d-4a46-b45b-b119ef6ee72d",
   "metadata": {},
   "source": [
    "## Test scoring on a record"
   ]
  },
  {
   "cell_type": "code",
   "execution_count": 14,
   "id": "34142745-2e72-4a23-8c61-5af983edf5a1",
   "metadata": {},
   "outputs": [
    {
     "data": {
      "text/html": [
       "<div>\n",
       "<style scoped>\n",
       "    .dataframe tbody tr th:only-of-type {\n",
       "        vertical-align: middle;\n",
       "    }\n",
       "\n",
       "    .dataframe tbody tr th {\n",
       "        vertical-align: top;\n",
       "    }\n",
       "\n",
       "    .dataframe thead th {\n",
       "        text-align: right;\n",
       "    }\n",
       "</style>\n",
       "<table border=\"1\" class=\"dataframe\">\n",
       "  <thead>\n",
       "    <tr style=\"text-align: right;\">\n",
       "      <th></th>\n",
       "      <th>mean radius</th>\n",
       "      <th>mean texture</th>\n",
       "      <th>mean perimeter</th>\n",
       "      <th>mean area</th>\n",
       "      <th>mean smoothness</th>\n",
       "      <th>mean compactness</th>\n",
       "      <th>mean concavity</th>\n",
       "      <th>mean concave points</th>\n",
       "      <th>mean symmetry</th>\n",
       "      <th>mean fractal dimension</th>\n",
       "      <th>...</th>\n",
       "      <th>worst radius</th>\n",
       "      <th>worst texture</th>\n",
       "      <th>worst perimeter</th>\n",
       "      <th>worst area</th>\n",
       "      <th>worst smoothness</th>\n",
       "      <th>worst compactness</th>\n",
       "      <th>worst concavity</th>\n",
       "      <th>worst concave points</th>\n",
       "      <th>worst symmetry</th>\n",
       "      <th>worst fractal dimension</th>\n",
       "    </tr>\n",
       "  </thead>\n",
       "  <tbody>\n",
       "    <tr>\n",
       "      <th>0</th>\n",
       "      <td>12.47</td>\n",
       "      <td>18.6</td>\n",
       "      <td>81.09</td>\n",
       "      <td>481.9</td>\n",
       "      <td>0.09965</td>\n",
       "      <td>0.1058</td>\n",
       "      <td>0.08005</td>\n",
       "      <td>0.03821</td>\n",
       "      <td>0.1925</td>\n",
       "      <td>0.06373</td>\n",
       "      <td>...</td>\n",
       "      <td>14.97</td>\n",
       "      <td>24.64</td>\n",
       "      <td>96.05</td>\n",
       "      <td>677.9</td>\n",
       "      <td>0.1426</td>\n",
       "      <td>0.2378</td>\n",
       "      <td>0.2671</td>\n",
       "      <td>0.1015</td>\n",
       "      <td>0.3014</td>\n",
       "      <td>0.0875</td>\n",
       "    </tr>\n",
       "  </tbody>\n",
       "</table>\n",
       "<p>1 rows × 30 columns</p>\n",
       "</div>"
      ],
      "text/plain": [
       "   mean radius  mean texture  mean perimeter  mean area  mean smoothness  \\\n",
       "0        12.47          18.6           81.09      481.9          0.09965   \n",
       "\n",
       "   mean compactness  mean concavity  mean concave points  mean symmetry  \\\n",
       "0            0.1058         0.08005              0.03821         0.1925   \n",
       "\n",
       "   mean fractal dimension  ...  worst radius  worst texture  worst perimeter  \\\n",
       "0                 0.06373  ...         14.97          24.64            96.05   \n",
       "\n",
       "   worst area  worst smoothness  worst compactness  worst concavity  \\\n",
       "0       677.9            0.1426             0.2378           0.2671   \n",
       "\n",
       "   worst concave points  worst symmetry  worst fractal dimension  \n",
       "0                0.1015          0.3014                   0.0875  \n",
       "\n",
       "[1 rows x 30 columns]"
      ]
     },
     "execution_count": 14,
     "metadata": {},
     "output_type": "execute_result"
    }
   ],
   "source": [
    "xtest = X_test.iloc[0:1].reset_index(drop=True)\n",
    "xtest"
   ]
  },
  {
   "cell_type": "code",
   "execution_count": 15,
   "id": "d2ef0727-3578-41c2-84b4-69ace759ebd1",
   "metadata": {
    "tags": []
   },
   "outputs": [
    {
     "name": "stdout",
     "output_type": "stream",
     "text": [
      "[0.189513]: tree=0 => 0-0 -> 0-1 -> 0-3 ->  0.189513117\n",
      "[0.357303]: tree=1 => 1-0 -> 1-1 -> 1-3 ->  0.167789608\n",
      "[0.35730272500000004]\n"
     ]
    }
   ],
   "source": [
    "score = score_manual(m2, xtest)"
   ]
  },
  {
   "cell_type": "code",
   "execution_count": 16,
   "id": "e74366c9-dfce-44e8-a02a-0f67e05a2b55",
   "metadata": {
    "tags": []
   },
   "outputs": [
    {
     "data": {
      "text/plain": [
       "(0.4116126566132269, 0.5883873433867731)"
      ]
     },
     "execution_count": 16,
     "metadata": {},
     "output_type": "execute_result"
    }
   ],
   "source": [
    "p = sigmoid(score)\n",
    "(1 - p, p)"
   ]
  },
  {
   "cell_type": "code",
   "execution_count": 17,
   "id": "5b773980-6709-43e5-80f6-5ed0c13f3b97",
   "metadata": {
    "tags": []
   },
   "outputs": [
    {
     "data": {
      "text/plain": [
       "array([[0.41161263, 0.58838737]], dtype=float32)"
      ]
     },
     "execution_count": 17,
     "metadata": {},
     "output_type": "execute_result"
    }
   ],
   "source": [
    "model_predicted = m2.predict_proba(xtest)\n",
    "model_predicted"
   ]
  },
  {
   "cell_type": "code",
   "execution_count": 18,
   "id": "0e4662d9-79d3-41da-a653-2f0d3e5dc072",
   "metadata": {
    "tags": []
   },
   "outputs": [
    {
     "data": {
      "text/plain": [
       "True"
      ]
     },
     "execution_count": 18,
     "metadata": {},
     "output_type": "execute_result"
    }
   ],
   "source": [
    "np.allclose((1-p, p), model_predicted)"
   ]
  },
  {
   "cell_type": "markdown",
   "id": "7e4c285c-b577-4451-a7e1-3f472443a210",
   "metadata": {},
   "source": [
    "## Try with larger model!"
   ]
  },
  {
   "cell_type": "code",
   "execution_count": 19,
   "id": "1dfe1328-0a5c-4056-b1b8-c486c2aaec1b",
   "metadata": {
    "tags": []
   },
   "outputs": [
    {
     "name": "stdout",
     "output_type": "stream",
     "text": [
      "Larger Model - Tree 0\n"
     ]
    },
    {
     "data": {
      "image/svg+xml": [
       "<?xml version=\"1.0\" encoding=\"UTF-8\" standalone=\"no\"?>\n",
       "<!DOCTYPE svg PUBLIC \"-//W3C//DTD SVG 1.1//EN\"\n",
       " \"http://www.w3.org/Graphics/SVG/1.1/DTD/svg11.dtd\">\n",
       "<!-- Generated by graphviz version 7.1.0 (20230121.1956)\n",
       " -->\n",
       "<!-- Pages: 1 -->\n",
       "<svg width=\"1079pt\" height=\"392pt\"\n",
       " viewBox=\"0.00 0.00 1079.00 392.00\" xmlns=\"http://www.w3.org/2000/svg\" xmlns:xlink=\"http://www.w3.org/1999/xlink\">\n",
       "<g id=\"graph0\" class=\"graph\" transform=\"scale(1 1) rotate(0) translate(4 388)\">\n",
       "<polygon fill=\"white\" stroke=\"none\" points=\"-4,4 -4,-388 1075,-388 1075,4 -4,4\"/>\n",
       "<!-- 0 -->\n",
       "<g id=\"node1\" class=\"node\">\n",
       "<title>0</title>\n",
       "<path fill=\"#78bceb\" stroke=\"black\" d=\"M654,-384C654,-384 460,-384 460,-384 454,-384 448,-378 448,-372 448,-372 448,-360 448,-360 448,-354 454,-348 460,-348 460,-348 654,-348 654,-348 660,-348 666,-354 666,-360 666,-360 666,-372 666,-372 666,-378 660,-384 654,-384\"/>\n",
       "<text text-anchor=\"middle\" x=\"557\" y=\"-362.3\" font-family=\"Times,serif\" font-size=\"14.00\">mean concave points&lt;0.0512799993</text>\n",
       "</g>\n",
       "<!-- 1 -->\n",
       "<g id=\"node2\" class=\"node\">\n",
       "<title>1</title>\n",
       "<path fill=\"#78bceb\" stroke=\"black\" d=\"M512,-297C512,-297 380,-297 380,-297 374,-297 368,-291 368,-285 368,-285 368,-273 368,-273 368,-267 374,-261 380,-261 380,-261 512,-261 512,-261 518,-261 524,-267 524,-273 524,-273 524,-285 524,-285 524,-291 518,-297 512,-297\"/>\n",
       "<text text-anchor=\"middle\" x=\"446\" y=\"-275.3\" font-family=\"Times,serif\" font-size=\"14.00\">worst radius&lt;16.8299999</text>\n",
       "</g>\n",
       "<!-- 0&#45;&gt;1 -->\n",
       "<g id=\"edge1\" class=\"edge\">\n",
       "<title>0&#45;&gt;1</title>\n",
       "<path fill=\"none\" stroke=\"#0000ff\" d=\"M534.27,-347.59C517.96,-335.1 495.76,-318.11 477.71,-304.28\"/>\n",
       "<polygon fill=\"#0000ff\" stroke=\"#0000ff\" points=\"479.97,-301.6 469.9,-298.3 475.71,-307.16 479.97,-301.6\"/>\n",
       "<text text-anchor=\"middle\" x=\"543.5\" y=\"-318.8\" font-family=\"Times,serif\" font-size=\"14.00\">yes, missing</text>\n",
       "</g>\n",
       "<!-- 2 -->\n",
       "<g id=\"node3\" class=\"node\">\n",
       "<title>2</title>\n",
       "<path fill=\"#78bceb\" stroke=\"black\" d=\"M798,-297C798,-297 638,-297 638,-297 632,-297 626,-291 626,-285 626,-285 626,-273 626,-273 626,-267 632,-261 638,-261 638,-261 798,-261 798,-261 804,-261 810,-267 810,-273 810,-273 810,-285 810,-285 810,-291 804,-297 798,-297\"/>\n",
       "<text text-anchor=\"middle\" x=\"718\" y=\"-275.3\" font-family=\"Times,serif\" font-size=\"14.00\">worst concave points&lt;0.14655</text>\n",
       "</g>\n",
       "<!-- 0&#45;&gt;2 -->\n",
       "<g id=\"edge2\" class=\"edge\">\n",
       "<title>0&#45;&gt;2</title>\n",
       "<path fill=\"none\" stroke=\"#ff0000\" d=\"M589.97,-347.59C614.61,-334.59 648.49,-316.7 675.22,-302.59\"/>\n",
       "<polygon fill=\"#ff0000\" stroke=\"#ff0000\" points=\"676.53,-305.85 683.74,-298.09 673.26,-299.66 676.53,-305.85\"/>\n",
       "<text text-anchor=\"middle\" x=\"655\" y=\"-318.8\" font-family=\"Times,serif\" font-size=\"14.00\">no</text>\n",
       "</g>\n",
       "<!-- 3 -->\n",
       "<g id=\"node4\" class=\"node\">\n",
       "<title>3</title>\n",
       "<path fill=\"#78bceb\" stroke=\"black\" d=\"M319.5,-210C319.5,-210 184.5,-210 184.5,-210 178.5,-210 172.5,-204 172.5,-198 172.5,-198 172.5,-186 172.5,-186 172.5,-180 178.5,-174 184.5,-174 184.5,-174 319.5,-174 319.5,-174 325.5,-174 331.5,-180 331.5,-186 331.5,-186 331.5,-198 331.5,-198 331.5,-204 325.5,-210 319.5,-210\"/>\n",
       "<text text-anchor=\"middle\" x=\"252\" y=\"-188.3\" font-family=\"Times,serif\" font-size=\"14.00\">radius error&lt;0.572100043</text>\n",
       "</g>\n",
       "<!-- 1&#45;&gt;3 -->\n",
       "<g id=\"edge3\" class=\"edge\">\n",
       "<title>1&#45;&gt;3</title>\n",
       "<path fill=\"none\" stroke=\"#0000ff\" d=\"M406.27,-260.59C376.06,-247.36 334.31,-229.06 301.86,-214.84\"/>\n",
       "<polygon fill=\"#0000ff\" stroke=\"#0000ff\" points=\"303.62,-211.8 293.06,-210.99 300.81,-218.21 303.62,-211.8\"/>\n",
       "<text text-anchor=\"middle\" x=\"395.5\" y=\"-231.8\" font-family=\"Times,serif\" font-size=\"14.00\">yes, missing</text>\n",
       "</g>\n",
       "<!-- 4 -->\n",
       "<g id=\"node5\" class=\"node\">\n",
       "<title>4</title>\n",
       "<path fill=\"#78bceb\" stroke=\"black\" d=\"M514.5,-210C514.5,-210 377.5,-210 377.5,-210 371.5,-210 365.5,-204 365.5,-198 365.5,-198 365.5,-186 365.5,-186 365.5,-180 371.5,-174 377.5,-174 377.5,-174 514.5,-174 514.5,-174 520.5,-174 526.5,-180 526.5,-186 526.5,-186 526.5,-198 526.5,-198 526.5,-204 520.5,-210 514.5,-210\"/>\n",
       "<text text-anchor=\"middle\" x=\"446\" y=\"-188.3\" font-family=\"Times,serif\" font-size=\"14.00\">mean texture&lt;18.6800003</text>\n",
       "</g>\n",
       "<!-- 1&#45;&gt;4 -->\n",
       "<g id=\"edge4\" class=\"edge\">\n",
       "<title>1&#45;&gt;4</title>\n",
       "<path fill=\"none\" stroke=\"#ff0000\" d=\"M446,-260.8C446,-249.58 446,-234.67 446,-221.69\"/>\n",
       "<polygon fill=\"#ff0000\" stroke=\"#ff0000\" points=\"449.5,-221.98 446,-211.98 442.5,-221.98 449.5,-221.98\"/>\n",
       "<text text-anchor=\"middle\" x=\"453\" y=\"-231.8\" font-family=\"Times,serif\" font-size=\"14.00\">no</text>\n",
       "</g>\n",
       "<!-- 5 -->\n",
       "<g id=\"node12\" class=\"node\">\n",
       "<title>5</title>\n",
       "<path fill=\"#78bceb\" stroke=\"black\" d=\"M780.5,-210C780.5,-210 655.5,-210 655.5,-210 649.5,-210 643.5,-204 643.5,-198 643.5,-198 643.5,-186 643.5,-186 643.5,-180 649.5,-174 655.5,-174 655.5,-174 780.5,-174 780.5,-174 786.5,-174 792.5,-180 792.5,-186 792.5,-186 792.5,-198 792.5,-198 792.5,-204 786.5,-210 780.5,-210\"/>\n",
       "<text text-anchor=\"middle\" x=\"718\" y=\"-188.3\" font-family=\"Times,serif\" font-size=\"14.00\">worst perimeter&lt;115.25</text>\n",
       "</g>\n",
       "<!-- 2&#45;&gt;5 -->\n",
       "<g id=\"edge11\" class=\"edge\">\n",
       "<title>2&#45;&gt;5</title>\n",
       "<path fill=\"none\" stroke=\"#0000ff\" d=\"M718,-260.8C718,-249.58 718,-234.67 718,-221.69\"/>\n",
       "<polygon fill=\"#0000ff\" stroke=\"#0000ff\" points=\"721.5,-221.98 718,-211.98 714.5,-221.98 721.5,-221.98\"/>\n",
       "<text text-anchor=\"middle\" x=\"752.5\" y=\"-231.8\" font-family=\"Times,serif\" font-size=\"14.00\">yes, missing</text>\n",
       "</g>\n",
       "<!-- 6 -->\n",
       "<g id=\"node13\" class=\"node\">\n",
       "<title>6</title>\n",
       "<path fill=\"#78bceb\" stroke=\"black\" d=\"M1020.5,-210C1020.5,-210 865.5,-210 865.5,-210 859.5,-210 853.5,-204 853.5,-198 853.5,-198 853.5,-186 853.5,-186 853.5,-180 859.5,-174 865.5,-174 865.5,-174 1020.5,-174 1020.5,-174 1026.5,-174 1032.5,-180 1032.5,-186 1032.5,-186 1032.5,-198 1032.5,-198 1032.5,-204 1026.5,-210 1020.5,-210\"/>\n",
       "<text text-anchor=\"middle\" x=\"943\" y=\"-188.3\" font-family=\"Times,serif\" font-size=\"14.00\">concavity error&lt;0.110300004</text>\n",
       "</g>\n",
       "<!-- 2&#45;&gt;6 -->\n",
       "<g id=\"edge12\" class=\"edge\">\n",
       "<title>2&#45;&gt;6</title>\n",
       "<path fill=\"none\" stroke=\"#ff0000\" d=\"M764.08,-260.59C799.57,-247.19 848.8,-228.59 886.64,-214.29\"/>\n",
       "<polygon fill=\"#ff0000\" stroke=\"#ff0000\" points=\"887.45,-217.73 895.57,-210.92 884.98,-211.18 887.45,-217.73\"/>\n",
       "<text text-anchor=\"middle\" x=\"851\" y=\"-231.8\" font-family=\"Times,serif\" font-size=\"14.00\">no</text>\n",
       "</g>\n",
       "<!-- 7 -->\n",
       "<g id=\"node6\" class=\"node\">\n",
       "<title>7</title>\n",
       "<path fill=\"#78bceb\" stroke=\"black\" d=\"M193.5,-123C193.5,-123 56.5,-123 56.5,-123 50.5,-123 44.5,-117 44.5,-111 44.5,-111 44.5,-99 44.5,-99 44.5,-93 50.5,-87 56.5,-87 56.5,-87 193.5,-87 193.5,-87 199.5,-87 205.5,-93 205.5,-99 205.5,-99 205.5,-111 205.5,-111 205.5,-117 199.5,-123 193.5,-123\"/>\n",
       "<text text-anchor=\"middle\" x=\"125\" y=\"-101.3\" font-family=\"Times,serif\" font-size=\"14.00\">worst texture&lt;38.4300003</text>\n",
       "</g>\n",
       "<!-- 3&#45;&gt;7 -->\n",
       "<g id=\"edge5\" class=\"edge\">\n",
       "<title>3&#45;&gt;7</title>\n",
       "<path fill=\"none\" stroke=\"#0000ff\" d=\"M210.26,-173.64C199.71,-168.54 188.65,-162.56 179,-156 168.43,-148.82 157.88,-139.61 148.94,-131.06\"/>\n",
       "<polygon fill=\"#0000ff\" stroke=\"#0000ff\" points=\"151.57,-128.75 142,-124.22 146.66,-133.73 151.57,-128.75\"/>\n",
       "<text text-anchor=\"middle\" x=\"213.5\" y=\"-144.8\" font-family=\"Times,serif\" font-size=\"14.00\">yes, missing</text>\n",
       "</g>\n",
       "<!-- 8 -->\n",
       "<g id=\"node7\" class=\"node\">\n",
       "<title>8</title>\n",
       "<polygon fill=\"#e48038\" stroke=\"black\" points=\"280,-123 224,-123 224,-87 280,-87 280,-123\"/>\n",
       "<text text-anchor=\"middle\" x=\"252\" y=\"-101.3\" font-family=\"Times,serif\" font-size=\"14.00\">leaf=&#45;0</text>\n",
       "</g>\n",
       "<!-- 3&#45;&gt;8 -->\n",
       "<g id=\"edge6\" class=\"edge\">\n",
       "<title>3&#45;&gt;8</title>\n",
       "<path fill=\"none\" stroke=\"#ff0000\" d=\"M252,-173.8C252,-162.58 252,-147.67 252,-134.69\"/>\n",
       "<polygon fill=\"#ff0000\" stroke=\"#ff0000\" points=\"255.5,-134.98 252,-124.98 248.5,-134.98 255.5,-134.98\"/>\n",
       "<text text-anchor=\"middle\" x=\"259\" y=\"-144.8\" font-family=\"Times,serif\" font-size=\"14.00\">no</text>\n",
       "</g>\n",
       "<!-- 9 -->\n",
       "<g id=\"node10\" class=\"node\">\n",
       "<title>9</title>\n",
       "<polygon fill=\"#e48038\" stroke=\"black\" points=\"414,-123 298,-123 298,-87 414,-87 414,-123\"/>\n",
       "<text text-anchor=\"middle\" x=\"356\" y=\"-101.3\" font-family=\"Times,serif\" font-size=\"14.00\">leaf=0.300000012</text>\n",
       "</g>\n",
       "<!-- 4&#45;&gt;9 -->\n",
       "<g id=\"edge9\" class=\"edge\">\n",
       "<title>4&#45;&gt;9</title>\n",
       "<path fill=\"none\" stroke=\"#0000ff\" d=\"M416.39,-173.51C408.72,-168.34 400.73,-162.35 394,-156 386.67,-149.08 379.68,-140.64 373.74,-132.68\"/>\n",
       "<polygon fill=\"#0000ff\" stroke=\"#0000ff\" points=\"376.61,-130.67 367.95,-124.57 370.91,-134.74 376.61,-130.67\"/>\n",
       "<text text-anchor=\"middle\" x=\"428.5\" y=\"-144.8\" font-family=\"Times,serif\" font-size=\"14.00\">yes, missing</text>\n",
       "</g>\n",
       "<!-- 10 -->\n",
       "<g id=\"node11\" class=\"node\">\n",
       "<title>10</title>\n",
       "<polygon fill=\"#e48038\" stroke=\"black\" points=\"553.5,-123 432.5,-123 432.5,-87 553.5,-87 553.5,-123\"/>\n",
       "<text text-anchor=\"middle\" x=\"493\" y=\"-101.3\" font-family=\"Times,serif\" font-size=\"14.00\">leaf=&#45;0.360000014</text>\n",
       "</g>\n",
       "<!-- 4&#45;&gt;10 -->\n",
       "<g id=\"edge10\" class=\"edge\">\n",
       "<title>4&#45;&gt;10</title>\n",
       "<path fill=\"none\" stroke=\"#ff0000\" d=\"M455.51,-173.8C461.9,-162.24 470.47,-146.75 477.79,-133.5\"/>\n",
       "<polygon fill=\"#ff0000\" stroke=\"#ff0000\" points=\"480.83,-135.24 482.61,-124.79 474.71,-131.85 480.83,-135.24\"/>\n",
       "<text text-anchor=\"middle\" x=\"480\" y=\"-144.8\" font-family=\"Times,serif\" font-size=\"14.00\">no</text>\n",
       "</g>\n",
       "<!-- 15 -->\n",
       "<g id=\"node8\" class=\"node\">\n",
       "<title>15</title>\n",
       "<polygon fill=\"#e48038\" stroke=\"black\" points=\"116,-36 0,-36 0,0 116,0 116,-36\"/>\n",
       "<text text-anchor=\"middle\" x=\"58\" y=\"-14.3\" font-family=\"Times,serif\" font-size=\"14.00\">leaf=0.581467211</text>\n",
       "</g>\n",
       "<!-- 7&#45;&gt;15 -->\n",
       "<g id=\"edge7\" class=\"edge\">\n",
       "<title>7&#45;&gt;15</title>\n",
       "<path fill=\"none\" stroke=\"#0000ff\" d=\"M111.44,-86.8C102.06,-74.9 89.4,-58.83 78.75,-45.32\"/>\n",
       "<polygon fill=\"#0000ff\" stroke=\"#0000ff\" points=\"81.64,-43.34 72.71,-37.66 76.15,-47.68 81.64,-43.34\"/>\n",
       "<text text-anchor=\"middle\" x=\"130.5\" y=\"-57.8\" font-family=\"Times,serif\" font-size=\"14.00\">yes, missing</text>\n",
       "</g>\n",
       "<!-- 16 -->\n",
       "<g id=\"node9\" class=\"node\">\n",
       "<title>16</title>\n",
       "<polygon fill=\"#e48038\" stroke=\"black\" points=\"250,-36 134,-36 134,0 250,0 250,-36\"/>\n",
       "<text text-anchor=\"middle\" x=\"192\" y=\"-14.3\" font-family=\"Times,serif\" font-size=\"14.00\">leaf=0.150000006</text>\n",
       "</g>\n",
       "<!-- 7&#45;&gt;16 -->\n",
       "<g id=\"edge8\" class=\"edge\">\n",
       "<title>7&#45;&gt;16</title>\n",
       "<path fill=\"none\" stroke=\"#ff0000\" d=\"M151.05,-86.57C157.46,-81.44 163.94,-75.45 169,-69 174.21,-62.36 178.56,-54.34 182.03,-46.7\"/>\n",
       "<polygon fill=\"#ff0000\" stroke=\"#ff0000\" points=\"185.16,-48.29 185.76,-37.71 178.69,-45.6 185.16,-48.29\"/>\n",
       "<text text-anchor=\"middle\" x=\"185\" y=\"-57.8\" font-family=\"Times,serif\" font-size=\"14.00\">no</text>\n",
       "</g>\n",
       "<!-- 11 -->\n",
       "<g id=\"node14\" class=\"node\">\n",
       "<title>11</title>\n",
       "<path fill=\"#78bceb\" stroke=\"black\" d=\"M720.5,-123C720.5,-123 583.5,-123 583.5,-123 577.5,-123 571.5,-117 571.5,-111 571.5,-111 571.5,-99 571.5,-99 571.5,-93 577.5,-87 583.5,-87 583.5,-87 720.5,-87 720.5,-87 726.5,-87 732.5,-93 732.5,-99 732.5,-99 732.5,-111 732.5,-111 732.5,-117 726.5,-123 720.5,-123\"/>\n",
       "<text text-anchor=\"middle\" x=\"652\" y=\"-101.3\" font-family=\"Times,serif\" font-size=\"14.00\">mean texture&lt;21.0550003</text>\n",
       "</g>\n",
       "<!-- 5&#45;&gt;11 -->\n",
       "<g id=\"edge13\" class=\"edge\">\n",
       "<title>5&#45;&gt;11</title>\n",
       "<path fill=\"none\" stroke=\"#0000ff\" d=\"M704.64,-173.8C695.4,-161.9 682.93,-145.83 672.44,-132.32\"/>\n",
       "<polygon fill=\"#0000ff\" stroke=\"#0000ff\" points=\"675.39,-130.41 666.49,-124.66 669.86,-134.71 675.39,-130.41\"/>\n",
       "<text text-anchor=\"middle\" x=\"723.5\" y=\"-144.8\" font-family=\"Times,serif\" font-size=\"14.00\">yes, missing</text>\n",
       "</g>\n",
       "<!-- 12 -->\n",
       "<g id=\"node15\" class=\"node\">\n",
       "<title>12</title>\n",
       "<polygon fill=\"#e48038\" stroke=\"black\" points=\"871.5,-123 750.5,-123 750.5,-87 871.5,-87 871.5,-123\"/>\n",
       "<text text-anchor=\"middle\" x=\"811\" y=\"-101.3\" font-family=\"Times,serif\" font-size=\"14.00\">leaf=&#45;0.458823562</text>\n",
       "</g>\n",
       "<!-- 5&#45;&gt;12 -->\n",
       "<g id=\"edge14\" class=\"edge\">\n",
       "<title>5&#45;&gt;12</title>\n",
       "<path fill=\"none\" stroke=\"#ff0000\" d=\"M740.83,-173.72C747.77,-168.22 755.33,-162.01 762,-156 770.58,-148.27 779.53,-139.39 787.41,-131.28\"/>\n",
       "<polygon fill=\"#ff0000\" stroke=\"#ff0000\" points=\"789.73,-133.92 794.12,-124.28 784.67,-129.08 789.73,-133.92\"/>\n",
       "<text text-anchor=\"middle\" x=\"785\" y=\"-144.8\" font-family=\"Times,serif\" font-size=\"14.00\">no</text>\n",
       "</g>\n",
       "<!-- 13 -->\n",
       "<g id=\"node18\" class=\"node\">\n",
       "<title>13</title>\n",
       "<polygon fill=\"#e48038\" stroke=\"black\" points=\"996.5,-123 889.5,-123 889.5,-87 996.5,-87 996.5,-123\"/>\n",
       "<text text-anchor=\"middle\" x=\"943\" y=\"-101.3\" font-family=\"Times,serif\" font-size=\"14.00\">leaf=&#45;0.5826087</text>\n",
       "</g>\n",
       "<!-- 6&#45;&gt;13 -->\n",
       "<g id=\"edge17\" class=\"edge\">\n",
       "<title>6&#45;&gt;13</title>\n",
       "<path fill=\"none\" stroke=\"#0000ff\" d=\"M943,-173.8C943,-162.58 943,-147.67 943,-134.69\"/>\n",
       "<polygon fill=\"#0000ff\" stroke=\"#0000ff\" points=\"946.5,-134.98 943,-124.98 939.5,-134.98 946.5,-134.98\"/>\n",
       "<text text-anchor=\"middle\" x=\"977.5\" y=\"-144.8\" font-family=\"Times,serif\" font-size=\"14.00\">yes, missing</text>\n",
       "</g>\n",
       "<!-- 14 -->\n",
       "<g id=\"node19\" class=\"node\">\n",
       "<title>14</title>\n",
       "<polygon fill=\"#e48038\" stroke=\"black\" points=\"1071,-123 1015,-123 1015,-87 1071,-87 1071,-123\"/>\n",
       "<text text-anchor=\"middle\" x=\"1043\" y=\"-101.3\" font-family=\"Times,serif\" font-size=\"14.00\">leaf=&#45;0</text>\n",
       "</g>\n",
       "<!-- 6&#45;&gt;14 -->\n",
       "<g id=\"edge18\" class=\"edge\">\n",
       "<title>6&#45;&gt;14</title>\n",
       "<path fill=\"none\" stroke=\"#ff0000\" d=\"M990.57,-173.57C999.7,-168.8 1008.67,-162.98 1016,-156 1022.65,-149.66 1028.04,-141.31 1032.2,-133.26\"/>\n",
       "<polygon fill=\"#ff0000\" stroke=\"#ff0000\" points=\"1035.28,-134.94 1036.33,-124.4 1028.93,-131.99 1035.28,-134.94\"/>\n",
       "<text text-anchor=\"middle\" x=\"1034\" y=\"-144.8\" font-family=\"Times,serif\" font-size=\"14.00\">no</text>\n",
       "</g>\n",
       "<!-- 17 -->\n",
       "<g id=\"node16\" class=\"node\">\n",
       "<title>17</title>\n",
       "<polygon fill=\"#e48038\" stroke=\"black\" points=\"638.5,-36 535.5,-36 535.5,0 638.5,0 638.5,-36\"/>\n",
       "<text text-anchor=\"middle\" x=\"587\" y=\"-14.3\" font-family=\"Times,serif\" font-size=\"14.00\">leaf=0.4909091</text>\n",
       "</g>\n",
       "<!-- 11&#45;&gt;17 -->\n",
       "<g id=\"edge15\" class=\"edge\">\n",
       "<title>11&#45;&gt;17</title>\n",
       "<path fill=\"none\" stroke=\"#0000ff\" d=\"M638.85,-86.8C629.74,-74.9 617.46,-58.83 607.13,-45.32\"/>\n",
       "<polygon fill=\"#0000ff\" stroke=\"#0000ff\" points=\"610.13,-43.49 601.28,-37.67 604.57,-47.74 610.13,-43.49\"/>\n",
       "<text text-anchor=\"middle\" x=\"658.5\" y=\"-57.8\" font-family=\"Times,serif\" font-size=\"14.00\">yes, missing</text>\n",
       "</g>\n",
       "<!-- 18 -->\n",
       "<g id=\"node17\" class=\"node\">\n",
       "<title>18</title>\n",
       "<polygon fill=\"#e48038\" stroke=\"black\" points=\"777.5,-36 656.5,-36 656.5,0 777.5,0 777.5,-36\"/>\n",
       "<text text-anchor=\"middle\" x=\"717\" y=\"-14.3\" font-family=\"Times,serif\" font-size=\"14.00\">leaf=&#45;0.300000012</text>\n",
       "</g>\n",
       "<!-- 11&#45;&gt;18 -->\n",
       "<g id=\"edge16\" class=\"edge\">\n",
       "<title>11&#45;&gt;18</title>\n",
       "<path fill=\"none\" stroke=\"#ff0000\" d=\"M677.51,-86.54C683.79,-81.41 690.1,-75.43 695,-69 700.02,-62.41 704.18,-54.5 707.47,-46.93\"/>\n",
       "<polygon fill=\"#ff0000\" stroke=\"#ff0000\" points=\"710.7,-48.28 711.13,-37.69 704.19,-45.7 710.7,-48.28\"/>\n",
       "<text text-anchor=\"middle\" x=\"711\" y=\"-57.8\" font-family=\"Times,serif\" font-size=\"14.00\">no</text>\n",
       "</g>\n",
       "</g>\n",
       "</svg>\n"
      ],
      "text/plain": [
       "<graphviz.sources.Source at 0x1673e3710>"
      ]
     },
     "execution_count": 19,
     "metadata": {},
     "output_type": "execute_result"
    }
   ],
   "source": [
    "print(\"Larger Model - Tree 0\")\n",
    "xgb.to_graphviz(m1, num_trees=0,\n",
    "                condition_node_params={'shape': 'box', 'style': 'filled,rounded', 'fillcolor': '#78bceb'},\n",
    "                leaf_node_params={'shape': 'box', 'style': 'filled', 'fillcolor': '#e48038'},\n",
    "                yes_color='#0000FF', no_color='#FF0000'\n",
    "               )"
   ]
  },
  {
   "cell_type": "code",
   "execution_count": 20,
   "id": "1f5f5c51-ac08-4d01-9b19-16bfc735e953",
   "metadata": {
    "tags": []
   },
   "outputs": [
    {
     "name": "stdout",
     "output_type": "stream",
     "text": [
      "[0.581467]: tree=0 => 0-0 -> 0-1 -> 0-3 -> 0-7 -> 0-15 ->  0.581467211\n",
      "[1.032373]: tree=1 => 1-0 -> 1-1 -> 1-3 -> 1-7 -> 1-15 ->  0.450906038\n",
      "[1.433868]: tree=2 => 2-0 -> 2-1 -> 2-3 -> 2-7 -> 2-13 ->  0.401494473\n",
      "[1.798324]: tree=3 => 3-0 -> 3-1 -> 3-3 -> 3-7 -> 3-11 ->  0.364456296\n",
      "[2.140342]: tree=4 => 4-0 -> 4-1 -> 4-3 -> 4-7 -> 4-14 -> 4-17 ->  0.342018098\n",
      "[2.464814]: tree=5 => 5-0 -> 5-1 -> 5-3 -> 5-7 -> 5-12 ->  0.32447201\n",
      "[2.777417]: tree=6 => 6-0 -> 6-1 -> 6-3 -> 6-7 -> 6-16 -> 6-17 ->  0.31260246\n",
      "[3.081277]: tree=7 => 7-0 -> 7-1 -> 7-3 -> 7-8 -> 7-13 ->  0.303860188\n",
      "[3.375054]: tree=8 => 8-0 -> 8-1 -> 8-3 -> 8-7 -> 8-13 ->  0.293777257\n",
      "[3.660898]: tree=9 => 9-0 -> 9-1 -> 9-3 -> 9-7 -> 9-11 ->  0.285844207\n",
      "[3.409729]: tree=10 => 10-0 -> 10-2 -> 10-6 -> 10-10 -> 10-12 ->  -0.251169384\n",
      "[3.676621]: tree=11 => 11-0 -> 11-1 -> 11-3 -> 11-5 -> 11-9 ->  0.266892046\n",
      "[3.924838]: tree=12 => 12-0 -> 12-1 -> 12-3 -> 12-5 -> 12-9 ->  0.248216823\n",
      "[4.164433]: tree=13 => 13-0 -> 13-1 -> 13-4 -> 13-9 ->  0.239594981\n",
      "[4.343461]: tree=14 => 14-0 -> 14-2 -> 14-5 -> 14-7 ->  0.179028675\n",
      "[4.551958]: tree=15 => 15-0 -> 15-1 -> 15-3 -> 15-6 ->  0.208496556\n",
      "[4.676991]: tree=16 => 16-0 -> 16-2 -> 16-5 -> 16-7 ->  0.125032887\n",
      "[4.878740]: tree=17 => 17-0 -> 17-1 -> 17-4 -> 17-9 ->  0.201748848\n",
      "[5.014772]: tree=18 => 18-0 -> 18-2 -> 18-5 -> 18-7 ->  0.136032328\n",
      "[4.975623]: tree=19 => 19-0 -> 19-2 -> 19-4 -> 19-7 ->  -0.0391494222\n",
      "[5.017074]: tree=20 => 20-0 -> 20-2 -> 20-5 ->  0.0414513499\n",
      "[4.853789]: tree=21 => 21-0 -> 21-2 -> 21-4 -> 21-6 ->  -0.163284451\n",
      "[4.761125]: tree=22 => 22-0 -> 22-2 ->  -0.0926647484\n",
      "[4.908487]: tree=23 => 23-0 -> 23-2 -> 23-4 -> 23-5 ->  0.14736253\n",
      "[4.942354]: tree=24 => 24-0 -> 24-2 -> 24-3 ->  0.03386629\n",
      "[4.814920]: tree=25 => 25-0 -> 25-2 -> 25-5 ->  -0.127433598\n",
      "[4.706191]: tree=26 => 26-0 -> 26-2 -> 26-4 ->  -0.108728983\n",
      "[4.745296]: tree=27 => 27-0 -> 27-2 -> 27-4 ->  0.0391051956\n",
      "[4.871797]: tree=28 => 28-0 -> 28-1 -> 28-4 ->  0.126500562\n",
      "[4.901601]: tree=29 => 29-0 -> 29-2 -> 29-3 ->  0.0298042316\n",
      "[4.803642]: tree=30 => 30-0 -> 30-2 -> 30-4 ->  -0.0979587361\n",
      "[4.781051]: tree=31 => 31-0 -> 31-1 -> 31-4 ->  -0.0225916207\n",
      "[4.875012]: tree=32 => 32-0 -> 32-1 -> 32-3 ->  0.0939609855\n",
      "[4.993888]: tree=33 => 33-0 -> 33-1 -> 33-4 ->  0.118876182\n",
      "[4.928076]: tree=34 => 34-0 -> 34-2 ->  -0.0658115447\n",
      "[4.954057]: tree=35 => 35-0 -> 35-2 -> 35-3 ->  0.0259808879\n",
      "[5.086300]: tree=36 => 36-0 -> 36-2 -> 36-3 ->  0.132242486\n",
      "[5.137471]: tree=37 => 37-0 -> 37-1 ->  0.0511714891\n",
      "[5.115835]: tree=38 => 38-0 -> 38-1 -> 38-4 ->  -0.0216356795\n",
      "[5.066608]: tree=39 => 39-0 -> 39-2 -> 39-4 ->  -0.0492269136\n",
      "[5.087007]: tree=40 => 40-0 -> 40-2 -> 40-3 ->  0.0203981083\n",
      "[5.043984]: tree=41 => 41-0 -> 41-2 ->  -0.04302264\n",
      "[5.004219]: tree=42 => 42-0 -> 42-2 ->  -0.0397645459\n",
      "[5.105939]: tree=43 => 43-0 -> 43-2 -> 43-3 ->  0.101719178\n",
      "[5.206148]: tree=44 => 44-0 -> 44-1 -> 44-4 ->  0.10020978\n",
      "[5.165309]: tree=45 => 45-0 -> 45-2 ->  -0.0408398025\n",
      "[5.208397]: tree=46 => 46-0 -> 46-1 ->  0.0430881865\n",
      "[5.169412]: tree=47 => 47-0 -> 47-2 ->  -0.0389846116\n",
      "[5.211835]: tree=48 => 48-0 -> 48-2 ->  0.0424223952\n",
      "[5.174294]: tree=49 => 49-0 -> 49-2 ->  -0.0375407301\n",
      "[5.139893]: tree=50 => 50-0 -> 50-2 ->  -0.0344012938\n",
      "[5.177549]: tree=51 => 51-0 -> 51-1 ->  0.0376568362\n",
      "[5.145073]: tree=52 => 52-0 -> 52-2 ->  -0.0324762277\n",
      "[5.183704]: tree=53 => 53-0 -> 53-2 ->  0.0386305563\n",
      "[5.148659]: tree=54 => 54-0 -> 54-2 ->  -0.0350447893\n",
      "[5.191189]: tree=55 => 55-0 -> 55-1 ->  0.0425305516\n",
      "[5.232067]: tree=56 => 56-0 -> 56-2 ->  0.0408777446\n",
      "[5.267435]: tree=57 => 57-0 -> 57-1 ->  0.035367582\n",
      "[5.232718]: tree=58 => 58-0 -> 58-2 ->  -0.034716744\n",
      "[5.199702]: tree=59 => 59-0 -> 59-1 ->  -0.0330159254\n",
      "[5.166719]: tree=60 => 60-0 -> 60-2 ->  -0.0329827815\n",
      "[5.204147]: tree=61 => 61-0 -> 61-1 ->  0.0374272019\n",
      "[5.236290]: tree=62 => 62-0 -> 62-2 ->  0.0321434028\n",
      "[5.202110]: tree=63 => 63-0 -> 63-2 ->  -0.0341800377\n",
      "[5.160968]: tree=64 => 64-0 -> 64-2 ->  -0.0411418416\n",
      "[5.199046]: tree=65 => 65-0 -> 65-1 ->  0.0380774587\n",
      "[5.234149]: tree=66 => 66-0 -> 66-2 ->  0.0351036638\n",
      "[5.267562]: tree=67 => 67-0 -> 67-1 ->  0.0334132649\n",
      "[5.234860]: tree=68 => 68-0 -> 68-1 ->  -0.0327023044\n",
      "[5.202346]: tree=69 => 69-0 -> 69-2 ->  -0.03251433\n",
      "[5.172089]: tree=70 => 70-0 -> 70-2 ->  -0.030257212\n",
      "[5.204579]: tree=71 => 71-0 -> 71-1 ->  0.032490097\n",
      "[5.174904]: tree=72 => 72-0 -> 72-2 ->  -0.0296745151\n",
      "[5.210745]: tree=73 => 73-0 -> 73-1 ->  0.0358411074\n",
      "[5.244948]: tree=74 => 74-0 -> 74-2 ->  0.0342028141\n",
      "[5.277290]: tree=75 => 75-0 -> 75-1 ->  0.0323420838\n",
      "[5.247036]: tree=76 => 76-0 -> 76-1 ->  -0.0302544497\n",
      "[5.217296]: tree=77 => 77-0 -> 77-2 ->  -0.0297400076\n",
      "[5.246572]: tree=78 => 78-0 -> 78-1 ->  0.0292760935\n",
      "[5.278437]: tree=79 => 79-0 -> 79-2 ->  0.0318647549\n",
      "[5.312318]: tree=80 => 80-0 -> 80-1 ->  0.0338816419\n",
      "[5.283807]: tree=81 => 81-0 -> 81-2 ->  -0.0285109375\n",
      "[5.317623]: tree=82 => 82-0 -> 82-1 ->  0.0338155478\n",
      "[5.290119]: tree=83 => 83-0 -> 83-1 ->  -0.0275041796\n",
      "[5.261092]: tree=84 => 84-0 -> 84-2 ->  -0.0290269703\n",
      "[5.289931]: tree=85 => 85-0 -> 85-1 ->  0.0288389008\n",
      "[5.318912]: tree=86 => 86-0 -> 86-2 ->  0.0289817881\n",
      "[5.346299]: tree=87 => 87-0 -> 87-1 ->  0.0273869243\n",
      "[5.377104]: tree=88 => 88-0 -> 88-1 ->  0.0308046769\n",
      "[5.403924]: tree=89 => 89-0 -> 89-1 ->  0.0268203374\n",
      "[5.377291]: tree=90 => 90-0 -> 90-1 ->  -0.0266333167\n",
      "[5.348474]: tree=91 => 91-0 -> 91-2 ->  -0.0288164858\n",
      "[5.375478]: tree=92 => 92-0 -> 92-1 ->  0.0270030703\n",
      "[5.348781]: tree=93 => 93-0 -> 93-1 ->  -0.0266967285\n",
      "[5.319141]: tree=94 => 94-0 -> 94-2 ->  -0.0296394881\n",
      "[5.346407]: tree=95 => 95-0 -> 95-2 ->  0.0272656232\n",
      "[5.375327]: tree=96 => 96-0 -> 96-1 ->  0.0289198626\n",
      "[5.400236]: tree=97 => 97-0 -> 97-1 ->  0.024909338\n",
      "[5.374586]: tree=98 => 98-0 -> 98-1 ->  -0.0256504398\n",
      "[5.347555]: tree=99 => 99-0 -> 99-2 ->  -0.0270307939\n",
      "[5.3475549331000005]\n"
     ]
    },
    {
     "data": {
      "text/plain": [
       "5.3475549331000005"
      ]
     },
     "execution_count": 20,
     "metadata": {},
     "output_type": "execute_result"
    }
   ],
   "source": [
    "m1score = score_manual(m1, xtest)\n",
    "m1score"
   ]
  },
  {
   "cell_type": "code",
   "execution_count": 21,
   "id": "6d5c9b5f-31aa-4a0d-a041-86df94932d47",
   "metadata": {
    "tags": []
   },
   "outputs": [],
   "source": [
    "m1p = sigmoid(m1score)"
   ]
  },
  {
   "cell_type": "code",
   "execution_count": 22,
   "id": "0dae093a-b1f3-4fc0-9540-79834557b41f",
   "metadata": {
    "tags": []
   },
   "outputs": [
    {
     "data": {
      "text/plain": [
       "(0.004737226619239032, 0.995262773380761)"
      ]
     },
     "execution_count": 22,
     "metadata": {},
     "output_type": "execute_result"
    }
   ],
   "source": [
    "(1 - m1p, m1p)"
   ]
  },
  {
   "cell_type": "code",
   "execution_count": 23,
   "id": "2a33453a-6ed2-4b9b-b70d-3e352990553e",
   "metadata": {
    "tags": []
   },
   "outputs": [
    {
     "data": {
      "text/plain": [
       "array([[0.00473726, 0.99526274]], dtype=float32)"
      ]
     },
     "execution_count": 23,
     "metadata": {},
     "output_type": "execute_result"
    }
   ],
   "source": [
    "m1_predicted = m1.predict_proba(xtest)\n",
    "m1_predicted"
   ]
  },
  {
   "cell_type": "code",
   "execution_count": 24,
   "id": "a40c1cb4-e027-43cb-9578-696e7ee33fff",
   "metadata": {
    "tags": []
   },
   "outputs": [
    {
     "data": {
      "text/plain": [
       "True"
      ]
     },
     "execution_count": 24,
     "metadata": {},
     "output_type": "execute_result"
    }
   ],
   "source": [
    "np.allclose((1 - m1p, m1p), m1_predicted)"
   ]
  },
  {
   "cell_type": "code",
   "execution_count": null,
   "id": "c104604c-646a-4eb6-92bb-df938da6e7d1",
   "metadata": {},
   "outputs": [],
   "source": []
  }
 ],
 "metadata": {
  "kernelspec": {
   "display_name": "Python 3 (ipykernel)",
   "language": "python",
   "name": "python3"
  },
  "language_info": {
   "codemirror_mode": {
    "name": "ipython",
    "version": 3
   },
   "file_extension": ".py",
   "mimetype": "text/x-python",
   "name": "python",
   "nbconvert_exporter": "python",
   "pygments_lexer": "ipython3",
   "version": "3.11.2"
  }
 },
 "nbformat": 4,
 "nbformat_minor": 5
}
